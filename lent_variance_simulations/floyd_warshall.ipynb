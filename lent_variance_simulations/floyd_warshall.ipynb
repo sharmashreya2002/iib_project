{
 "cells": [
  {
   "cell_type": "code",
   "execution_count": 5,
   "metadata": {},
   "outputs": [],
   "source": [
    "import numpy as np\n",
    "\n",
    "INF = float('inf')\n",
    "\n",
    "def floyd_warshall(graph):\n",
    "    num_vertices = len(graph)\n",
    "    dist = np.full((num_vertices, num_vertices), INF)\n",
    "\n",
    "    # Initialize distances based on graph\n",
    "    for i in range(num_vertices):\n",
    "        for j in range(num_vertices):\n",
    "            if i == j:\n",
    "                dist[i][j] = 0\n",
    "            elif graph[i][j] != 0:\n",
    "                dist[i][j] = graph[i][j]\n",
    "\n",
    "    # Floyd-Warshall Algorithm\n",
    "    for k in range(num_vertices):\n",
    "        for i in range(num_vertices):\n",
    "            for j in range(num_vertices):\n",
    "                dist[i][j] = min(dist[i][j], dist[i][k] + dist[k][j])\n",
    "\n",
    "    return dist\n"
   ]
  },
  {
   "cell_type": "markdown",
   "metadata": {},
   "source": [
    "Shortest Path Matrix for the N = 40 Circular Graph -- The complexity of this is O(N^3), potentially Djikstra's algorithm or Breadth First Programming would be more efficient; but if this only needs to be run once, is efficiency a very important factor?"
   ]
  },
  {
   "cell_type": "code",
   "execution_count": 6,
   "metadata": {},
   "outputs": [
    {
     "name": "stdout",
     "output_type": "stream",
     "text": [
      "[[0. 1. 2. ... 3. 2. 1.]\n",
      " [1. 0. 1. ... 4. 3. 2.]\n",
      " [2. 1. 0. ... 5. 4. 3.]\n",
      " ...\n",
      " [3. 4. 5. ... 0. 1. 2.]\n",
      " [2. 3. 4. ... 1. 0. 1.]\n",
      " [1. 2. 3. ... 2. 1. 0.]]\n"
     ]
    }
   ],
   "source": [
    "N = 40\n",
    "adj = np.eye(N)* 0\n",
    "for i in range(1, N-1):\n",
    "    adj[i, i-1] = adj[i, i+1] = 1\n",
    "\n",
    "adj[0][1] = adj[0][N-1] = adj[N-1][0] = adj[N-1][N-2] = 1\n",
    "shortest_paths = floyd_warshall(adj)\n",
    "print(shortest_paths)"
   ]
  },
  {
   "cell_type": "markdown",
   "metadata": {},
   "source": [
    "Make a dictionary"
   ]
  },
  {
   "cell_type": "code",
   "execution_count": 7,
   "metadata": {},
   "outputs": [
    {
     "name": "stdout",
     "output_type": "stream",
     "text": [
      "{1.0: [(0, 1), (0, 39), (1, 2), (2, 3), (3, 4), (4, 5), (5, 6), (6, 7), (7, 8), (8, 9), (9, 10), (10, 11), (11, 12), (12, 13), (13, 14), (14, 15), (15, 16), (16, 17), (17, 18), (18, 19), (19, 20), (20, 21), (21, 22), (22, 23), (23, 24), (24, 25), (25, 26), (26, 27), (27, 28), (28, 29), (29, 30), (30, 31), (31, 32), (32, 33), (33, 34), (34, 35), (35, 36), (36, 37), (37, 38), (38, 39)], 2.0: [(0, 2), (0, 38), (1, 3), (1, 39), (2, 4), (3, 5), (4, 6), (5, 7), (6, 8), (7, 9), (8, 10), (9, 11), (10, 12), (11, 13), (12, 14), (13, 15), (14, 16), (15, 17), (16, 18), (17, 19), (18, 20), (19, 21), (20, 22), (21, 23), (22, 24), (23, 25), (24, 26), (25, 27), (26, 28), (27, 29), (28, 30), (29, 31), (30, 32), (31, 33), (32, 34), (33, 35), (34, 36), (35, 37), (36, 38), (37, 39)], 3.0: [(0, 3), (0, 37), (1, 4), (1, 38), (2, 5), (2, 39), (3, 6), (4, 7), (5, 8), (6, 9), (7, 10), (8, 11), (9, 12), (10, 13), (11, 14), (12, 15), (13, 16), (14, 17), (15, 18), (16, 19), (17, 20), (18, 21), (19, 22), (20, 23), (21, 24), (22, 25), (23, 26), (24, 27), (25, 28), (26, 29), (27, 30), (28, 31), (29, 32), (30, 33), (31, 34), (32, 35), (33, 36), (34, 37), (35, 38), (36, 39)], 4.0: [(0, 4), (0, 36), (1, 5), (1, 37), (2, 6), (2, 38), (3, 7), (3, 39), (4, 8), (5, 9), (6, 10), (7, 11), (8, 12), (9, 13), (10, 14), (11, 15), (12, 16), (13, 17), (14, 18), (15, 19), (16, 20), (17, 21), (18, 22), (19, 23), (20, 24), (21, 25), (22, 26), (23, 27), (24, 28), (25, 29), (26, 30), (27, 31), (28, 32), (29, 33), (30, 34), (31, 35), (32, 36), (33, 37), (34, 38), (35, 39)], 5.0: [(0, 5), (0, 35), (1, 6), (1, 36), (2, 7), (2, 37), (3, 8), (3, 38), (4, 9), (4, 39), (5, 10), (6, 11), (7, 12), (8, 13), (9, 14), (10, 15), (11, 16), (12, 17), (13, 18), (14, 19), (15, 20), (16, 21), (17, 22), (18, 23), (19, 24), (20, 25), (21, 26), (22, 27), (23, 28), (24, 29), (25, 30), (26, 31), (27, 32), (28, 33), (29, 34), (30, 35), (31, 36), (32, 37), (33, 38), (34, 39)], 6.0: [(0, 6), (0, 34), (1, 7), (1, 35), (2, 8), (2, 36), (3, 9), (3, 37), (4, 10), (4, 38), (5, 11), (5, 39), (6, 12), (7, 13), (8, 14), (9, 15), (10, 16), (11, 17), (12, 18), (13, 19), (14, 20), (15, 21), (16, 22), (17, 23), (18, 24), (19, 25), (20, 26), (21, 27), (22, 28), (23, 29), (24, 30), (25, 31), (26, 32), (27, 33), (28, 34), (29, 35), (30, 36), (31, 37), (32, 38), (33, 39)], 7.0: [(0, 7), (0, 33), (1, 8), (1, 34), (2, 9), (2, 35), (3, 10), (3, 36), (4, 11), (4, 37), (5, 12), (5, 38), (6, 13), (6, 39), (7, 14), (8, 15), (9, 16), (10, 17), (11, 18), (12, 19), (13, 20), (14, 21), (15, 22), (16, 23), (17, 24), (18, 25), (19, 26), (20, 27), (21, 28), (22, 29), (23, 30), (24, 31), (25, 32), (26, 33), (27, 34), (28, 35), (29, 36), (30, 37), (31, 38), (32, 39)], 8.0: [(0, 8), (0, 32), (1, 9), (1, 33), (2, 10), (2, 34), (3, 11), (3, 35), (4, 12), (4, 36), (5, 13), (5, 37), (6, 14), (6, 38), (7, 15), (7, 39), (8, 16), (9, 17), (10, 18), (11, 19), (12, 20), (13, 21), (14, 22), (15, 23), (16, 24), (17, 25), (18, 26), (19, 27), (20, 28), (21, 29), (22, 30), (23, 31), (24, 32), (25, 33), (26, 34), (27, 35), (28, 36), (29, 37), (30, 38), (31, 39)], 9.0: [(0, 9), (0, 31), (1, 10), (1, 32), (2, 11), (2, 33), (3, 12), (3, 34), (4, 13), (4, 35), (5, 14), (5, 36), (6, 15), (6, 37), (7, 16), (7, 38), (8, 17), (8, 39), (9, 18), (10, 19), (11, 20), (12, 21), (13, 22), (14, 23), (15, 24), (16, 25), (17, 26), (18, 27), (19, 28), (20, 29), (21, 30), (22, 31), (23, 32), (24, 33), (25, 34), (26, 35), (27, 36), (28, 37), (29, 38), (30, 39)], 10.0: [(0, 10), (0, 30), (1, 11), (1, 31), (2, 12), (2, 32), (3, 13), (3, 33), (4, 14), (4, 34), (5, 15), (5, 35), (6, 16), (6, 36), (7, 17), (7, 37), (8, 18), (8, 38), (9, 19), (9, 39), (10, 20), (11, 21), (12, 22), (13, 23), (14, 24), (15, 25), (16, 26), (17, 27), (18, 28), (19, 29), (20, 30), (21, 31), (22, 32), (23, 33), (24, 34), (25, 35), (26, 36), (27, 37), (28, 38), (29, 39)], 11.0: [(0, 11), (0, 29), (1, 12), (1, 30), (2, 13), (2, 31), (3, 14), (3, 32), (4, 15), (4, 33), (5, 16), (5, 34), (6, 17), (6, 35), (7, 18), (7, 36), (8, 19), (8, 37), (9, 20), (9, 38), (10, 21), (10, 39), (11, 22), (12, 23), (13, 24), (14, 25), (15, 26), (16, 27), (17, 28), (18, 29), (19, 30), (20, 31), (21, 32), (22, 33), (23, 34), (24, 35), (25, 36), (26, 37), (27, 38), (28, 39)], 12.0: [(0, 12), (0, 28), (1, 13), (1, 29), (2, 14), (2, 30), (3, 15), (3, 31), (4, 16), (4, 32), (5, 17), (5, 33), (6, 18), (6, 34), (7, 19), (7, 35), (8, 20), (8, 36), (9, 21), (9, 37), (10, 22), (10, 38), (11, 23), (11, 39), (12, 24), (13, 25), (14, 26), (15, 27), (16, 28), (17, 29), (18, 30), (19, 31), (20, 32), (21, 33), (22, 34), (23, 35), (24, 36), (25, 37), (26, 38), (27, 39)], 13.0: [(0, 13), (0, 27), (1, 14), (1, 28), (2, 15), (2, 29), (3, 16), (3, 30), (4, 17), (4, 31), (5, 18), (5, 32), (6, 19), (6, 33), (7, 20), (7, 34), (8, 21), (8, 35), (9, 22), (9, 36), (10, 23), (10, 37), (11, 24), (11, 38), (12, 25), (12, 39), (13, 26), (14, 27), (15, 28), (16, 29), (17, 30), (18, 31), (19, 32), (20, 33), (21, 34), (22, 35), (23, 36), (24, 37), (25, 38), (26, 39)], 14.0: [(0, 14), (0, 26), (1, 15), (1, 27), (2, 16), (2, 28), (3, 17), (3, 29), (4, 18), (4, 30), (5, 19), (5, 31), (6, 20), (6, 32), (7, 21), (7, 33), (8, 22), (8, 34), (9, 23), (9, 35), (10, 24), (10, 36), (11, 25), (11, 37), (12, 26), (12, 38), (13, 27), (13, 39), (14, 28), (15, 29), (16, 30), (17, 31), (18, 32), (19, 33), (20, 34), (21, 35), (22, 36), (23, 37), (24, 38), (25, 39)], 15.0: [(0, 15), (0, 25), (1, 16), (1, 26), (2, 17), (2, 27), (3, 18), (3, 28), (4, 19), (4, 29), (5, 20), (5, 30), (6, 21), (6, 31), (7, 22), (7, 32), (8, 23), (8, 33), (9, 24), (9, 34), (10, 25), (10, 35), (11, 26), (11, 36), (12, 27), (12, 37), (13, 28), (13, 38), (14, 29), (14, 39), (15, 30), (16, 31), (17, 32), (18, 33), (19, 34), (20, 35), (21, 36), (22, 37), (23, 38), (24, 39)], 16.0: [(0, 16), (0, 24), (1, 17), (1, 25), (2, 18), (2, 26), (3, 19), (3, 27), (4, 20), (4, 28), (5, 21), (5, 29), (6, 22), (6, 30), (7, 23), (7, 31), (8, 24), (8, 32), (9, 25), (9, 33), (10, 26), (10, 34), (11, 27), (11, 35), (12, 28), (12, 36), (13, 29), (13, 37), (14, 30), (14, 38), (15, 31), (15, 39), (16, 32), (17, 33), (18, 34), (19, 35), (20, 36), (21, 37), (22, 38), (23, 39)], 17.0: [(0, 17), (0, 23), (1, 18), (1, 24), (2, 19), (2, 25), (3, 20), (3, 26), (4, 21), (4, 27), (5, 22), (5, 28), (6, 23), (6, 29), (7, 24), (7, 30), (8, 25), (8, 31), (9, 26), (9, 32), (10, 27), (10, 33), (11, 28), (11, 34), (12, 29), (12, 35), (13, 30), (13, 36), (14, 31), (14, 37), (15, 32), (15, 38), (16, 33), (16, 39), (17, 34), (18, 35), (19, 36), (20, 37), (21, 38), (22, 39)], 18.0: [(0, 18), (0, 22), (1, 19), (1, 23), (2, 20), (2, 24), (3, 21), (3, 25), (4, 22), (4, 26), (5, 23), (5, 27), (6, 24), (6, 28), (7, 25), (7, 29), (8, 26), (8, 30), (9, 27), (9, 31), (10, 28), (10, 32), (11, 29), (11, 33), (12, 30), (12, 34), (13, 31), (13, 35), (14, 32), (14, 36), (15, 33), (15, 37), (16, 34), (16, 38), (17, 35), (17, 39), (18, 36), (19, 37), (20, 38), (21, 39)], 19.0: [(0, 19), (0, 21), (1, 20), (1, 22), (2, 21), (2, 23), (3, 22), (3, 24), (4, 23), (4, 25), (5, 24), (5, 26), (6, 25), (6, 27), (7, 26), (7, 28), (8, 27), (8, 29), (9, 28), (9, 30), (10, 29), (10, 31), (11, 30), (11, 32), (12, 31), (12, 33), (13, 32), (13, 34), (14, 33), (14, 35), (15, 34), (15, 36), (16, 35), (16, 37), (17, 36), (17, 38), (18, 37), (18, 39), (19, 38), (20, 39)], 20.0: [(0, 20), (1, 21), (2, 22), (3, 23), (4, 24), (5, 25), (6, 26), (7, 27), (8, 28), (9, 29), (10, 30), (11, 31), (12, 32), (13, 33), (14, 34), (15, 35), (16, 36), (17, 37), (18, 38), (19, 39)]}\n"
     ]
    }
   ],
   "source": [
    "shortestpathdict = {}\n",
    "n = len(shortest_paths)\n",
    "for i in range(n):\n",
    "    for j in range(i + 1, n):\n",
    "        if shortest_paths[i][j] in shortestpathdict:\n",
    "            shortestpathdict[shortest_paths[i][j]].append((i, j))\n",
    "        else:\n",
    "            shortestpathdict[shortest_paths[i][j]] = [(i, j)]\n",
    "\n",
    "print(shortestpathdict)"
   ]
  },
  {
   "cell_type": "markdown",
   "metadata": {},
   "source": [
    "Run the Spatial Correlation Simulation"
   ]
  },
  {
   "cell_type": "code",
   "execution_count": 8,
   "metadata": {},
   "outputs": [],
   "source": [
    "import networkx as nx\n",
    "G = nx.from_numpy_array(adj)\n",
    "\n",
    "E = list(G.edges)"
   ]
  },
  {
   "cell_type": "code",
   "execution_count": 9,
   "metadata": {},
   "outputs": [],
   "source": [
    "import numpy as np\n",
    "\n",
    "class Counter(dict):\n",
    "    largest_non_zero = 0\n",
    "    def increment(self, item, delta = 1):\n",
    "        new_val = delta + self.pop(item, 0)\n",
    "        if new_val > 0: \n",
    "            self[item] = new_val\n",
    "            if (item != 0) and (new_val > self.largest_non_zero):\n",
    "                self.largest_non_zero = new_val\n",
    "\n",
    "def y(x):\n",
    "    return 2**x\n",
    "\n",
    "\n",
    "def jaccard_index(a, b):\n",
    "    intersection = (a & b).bit_count()\n",
    "    union = (a | b).bit_count()\n",
    "    return intersection / union if union else 0\n",
    "\n",
    "def find_tranformation_matrix(b, E, N, Tmax, stopping_crit = 0):\n",
    "\n",
    "    M = np.shape(E)[0]\n",
    "    ## find the number of events that occur in the interval from T = 0 to T = Tmax\n",
    "    n = np.random.poisson(lam = Tmax*(N+b*M))\n",
    "\n",
    "    ## find times for all events\n",
    "    times = np.sort(np.random.uniform(0, Tmax, n))\n",
    "    R = np.zeros(n, dtype = int)\n",
    "\n",
    "    ## initialize the transformation matrix X    \n",
    "    X = [2**i for i in range(N)][::-1]\n",
    "    ## initialize the Similarity matrix J\n",
    "    J = np.eye(N)\n",
    "\n",
    "    counts = Counter()\n",
    "    for element in X:\n",
    "        counts.increment(element, 1)\n",
    "\n",
    "    # run simulation\n",
    "    for t in range(n):\n",
    "        \n",
    "        if np.random.random() < N/(N + b*M):\n",
    "            ## recovery event: \n",
    "            i = np.random.randint(N)\n",
    "            # print(f\"Recovery event of {i} which is {X[i]}\")\n",
    "\n",
    "            if X[i] != 0:\n",
    "                \n",
    "                counts.increment(X[i], -1)\n",
    "\n",
    "                X[i] = 0\n",
    "\n",
    "                counts.increment(0, 1)\n",
    "\n",
    "                ## update the similarity matrix (find max over all time)\n",
    "                for a in range(N):\n",
    "                    new_val = jaccard_index(X[i], X[a])\n",
    "                    if new_val > J[a, i]:\n",
    "                        J[i, a] = J[a, i] = new_val\n",
    "        \n",
    "        ## infection event:\n",
    "        else:\n",
    "\n",
    "            i,j = E[np.random.randint(M)]\n",
    "            # print(f\"spreading event between {i} which is {X[i]} and {j} which is {X[j]}\")\n",
    "            if (X[i] != 0 or X[j] != 0) and X[i] != X[j]:\n",
    "                    \n",
    "                new = X[i] | X[j]\n",
    "                counts.increment(X[i], -1)\n",
    "                counts.increment(X[j], -1)\n",
    "                counts.increment(new, 2)\n",
    "                X[i] = X[j] = new\n",
    "\n",
    "                ## update the similarity matrix:\n",
    "                for a in range(N):\n",
    "                    new_val = jaccard_index(X[i], X[a]) ## X[i] = X[j] after spreading event\n",
    "                    if new_val > J[a, i]:\n",
    "                        J[a, i] = J[i, a] = new_val\n",
    "                    if new_val > J[a, j]:\n",
    "                        J[a, j] = J[j, a] = new_val\n",
    "                \n",
    "        R[t] = non_zero_distinct_rows = len(counts) - (0 in counts)\n",
    "        ## storing s1star for the largest non-zero count\n",
    "        spatial = counts.largest_non_zero\n",
    "        \n",
    "        ## break the simulation because the pseudo mixing time has been found (the number of distinct rows and thus distinct columns is 2 or extinction, depending)\n",
    "\n",
    "        if non_zero_distinct_rows == stopping_crit:\n",
    "            times = times[:t+1]\n",
    "            R = R[:t+1]\n",
    "            break\n",
    "\n",
    "    return times, R, spatial, J"
   ]
  },
  {
   "cell_type": "code",
   "execution_count": 22,
   "metadata": {},
   "outputs": [
    {
     "name": "stdout",
     "output_type": "stream",
     "text": [
      "[[1.         0.576      0.23481746 ... 0.10035079 0.23333333 0.57      ]\n",
      " [0.576      1.         0.57466667 ... 0.04       0.09301111 0.23193333]\n",
      " [0.23481746 0.57466667 1.         ... 0.01232222 0.03341429 0.09258095]\n",
      " ...\n",
      " [0.10035079 0.04       0.01232222 ... 1.         0.606      0.25483333]\n",
      " [0.23333333 0.09301111 0.03341429 ... 0.606      1.         0.58533333]\n",
      " [0.57       0.23193333 0.09258095 ... 0.25483333 0.58533333 1.        ]]\n"
     ]
    }
   ],
   "source": [
    "Js = []\n",
    "b = 0.5\n",
    "Tmax = 100\n",
    "for i in range(1500):\n",
    "    times, R, spatial, J = find_tranformation_matrix(b, E, N, Tmax, 0)\n",
    "    Js.append(J)\n",
    "\n",
    "average = np.mean(Js, axis=0)\n",
    "\n",
    "print(average)"
   ]
  },
  {
   "cell_type": "code",
   "execution_count": 11,
   "metadata": {},
   "outputs": [
    {
     "name": "stdout",
     "output_type": "stream",
     "text": [
      "{1.0: [(0, 1), (0, 39), (1, 2), (2, 3), (3, 4), (4, 5), (5, 6), (6, 7), (7, 8), (8, 9), (9, 10), (10, 11), (11, 12), (12, 13), (13, 14), (14, 15), (15, 16), (16, 17), (17, 18), (18, 19), (19, 20), (20, 21), (21, 22), (22, 23), (23, 24), (24, 25), (25, 26), (26, 27), (27, 28), (28, 29), (29, 30), (30, 31), (31, 32), (32, 33), (33, 34), (34, 35), (35, 36), (36, 37), (37, 38), (38, 39)], 2.0: [(0, 2), (0, 38), (1, 3), (1, 39), (2, 4), (3, 5), (4, 6), (5, 7), (6, 8), (7, 9), (8, 10), (9, 11), (10, 12), (11, 13), (12, 14), (13, 15), (14, 16), (15, 17), (16, 18), (17, 19), (18, 20), (19, 21), (20, 22), (21, 23), (22, 24), (23, 25), (24, 26), (25, 27), (26, 28), (27, 29), (28, 30), (29, 31), (30, 32), (31, 33), (32, 34), (33, 35), (34, 36), (35, 37), (36, 38), (37, 39)], 3.0: [(0, 3), (0, 37), (1, 4), (1, 38), (2, 5), (2, 39), (3, 6), (4, 7), (5, 8), (6, 9), (7, 10), (8, 11), (9, 12), (10, 13), (11, 14), (12, 15), (13, 16), (14, 17), (15, 18), (16, 19), (17, 20), (18, 21), (19, 22), (20, 23), (21, 24), (22, 25), (23, 26), (24, 27), (25, 28), (26, 29), (27, 30), (28, 31), (29, 32), (30, 33), (31, 34), (32, 35), (33, 36), (34, 37), (35, 38), (36, 39)], 4.0: [(0, 4), (0, 36), (1, 5), (1, 37), (2, 6), (2, 38), (3, 7), (3, 39), (4, 8), (5, 9), (6, 10), (7, 11), (8, 12), (9, 13), (10, 14), (11, 15), (12, 16), (13, 17), (14, 18), (15, 19), (16, 20), (17, 21), (18, 22), (19, 23), (20, 24), (21, 25), (22, 26), (23, 27), (24, 28), (25, 29), (26, 30), (27, 31), (28, 32), (29, 33), (30, 34), (31, 35), (32, 36), (33, 37), (34, 38), (35, 39)], 5.0: [(0, 5), (0, 35), (1, 6), (1, 36), (2, 7), (2, 37), (3, 8), (3, 38), (4, 9), (4, 39), (5, 10), (6, 11), (7, 12), (8, 13), (9, 14), (10, 15), (11, 16), (12, 17), (13, 18), (14, 19), (15, 20), (16, 21), (17, 22), (18, 23), (19, 24), (20, 25), (21, 26), (22, 27), (23, 28), (24, 29), (25, 30), (26, 31), (27, 32), (28, 33), (29, 34), (30, 35), (31, 36), (32, 37), (33, 38), (34, 39)], 6.0: [(0, 6), (0, 34), (1, 7), (1, 35), (2, 8), (2, 36), (3, 9), (3, 37), (4, 10), (4, 38), (5, 11), (5, 39), (6, 12), (7, 13), (8, 14), (9, 15), (10, 16), (11, 17), (12, 18), (13, 19), (14, 20), (15, 21), (16, 22), (17, 23), (18, 24), (19, 25), (20, 26), (21, 27), (22, 28), (23, 29), (24, 30), (25, 31), (26, 32), (27, 33), (28, 34), (29, 35), (30, 36), (31, 37), (32, 38), (33, 39)], 7.0: [(0, 7), (0, 33), (1, 8), (1, 34), (2, 9), (2, 35), (3, 10), (3, 36), (4, 11), (4, 37), (5, 12), (5, 38), (6, 13), (6, 39), (7, 14), (8, 15), (9, 16), (10, 17), (11, 18), (12, 19), (13, 20), (14, 21), (15, 22), (16, 23), (17, 24), (18, 25), (19, 26), (20, 27), (21, 28), (22, 29), (23, 30), (24, 31), (25, 32), (26, 33), (27, 34), (28, 35), (29, 36), (30, 37), (31, 38), (32, 39)], 8.0: [(0, 8), (0, 32), (1, 9), (1, 33), (2, 10), (2, 34), (3, 11), (3, 35), (4, 12), (4, 36), (5, 13), (5, 37), (6, 14), (6, 38), (7, 15), (7, 39), (8, 16), (9, 17), (10, 18), (11, 19), (12, 20), (13, 21), (14, 22), (15, 23), (16, 24), (17, 25), (18, 26), (19, 27), (20, 28), (21, 29), (22, 30), (23, 31), (24, 32), (25, 33), (26, 34), (27, 35), (28, 36), (29, 37), (30, 38), (31, 39)], 9.0: [(0, 9), (0, 31), (1, 10), (1, 32), (2, 11), (2, 33), (3, 12), (3, 34), (4, 13), (4, 35), (5, 14), (5, 36), (6, 15), (6, 37), (7, 16), (7, 38), (8, 17), (8, 39), (9, 18), (10, 19), (11, 20), (12, 21), (13, 22), (14, 23), (15, 24), (16, 25), (17, 26), (18, 27), (19, 28), (20, 29), (21, 30), (22, 31), (23, 32), (24, 33), (25, 34), (26, 35), (27, 36), (28, 37), (29, 38), (30, 39)], 10.0: [(0, 10), (0, 30), (1, 11), (1, 31), (2, 12), (2, 32), (3, 13), (3, 33), (4, 14), (4, 34), (5, 15), (5, 35), (6, 16), (6, 36), (7, 17), (7, 37), (8, 18), (8, 38), (9, 19), (9, 39), (10, 20), (11, 21), (12, 22), (13, 23), (14, 24), (15, 25), (16, 26), (17, 27), (18, 28), (19, 29), (20, 30), (21, 31), (22, 32), (23, 33), (24, 34), (25, 35), (26, 36), (27, 37), (28, 38), (29, 39)], 11.0: [(0, 11), (0, 29), (1, 12), (1, 30), (2, 13), (2, 31), (3, 14), (3, 32), (4, 15), (4, 33), (5, 16), (5, 34), (6, 17), (6, 35), (7, 18), (7, 36), (8, 19), (8, 37), (9, 20), (9, 38), (10, 21), (10, 39), (11, 22), (12, 23), (13, 24), (14, 25), (15, 26), (16, 27), (17, 28), (18, 29), (19, 30), (20, 31), (21, 32), (22, 33), (23, 34), (24, 35), (25, 36), (26, 37), (27, 38), (28, 39)], 12.0: [(0, 12), (0, 28), (1, 13), (1, 29), (2, 14), (2, 30), (3, 15), (3, 31), (4, 16), (4, 32), (5, 17), (5, 33), (6, 18), (6, 34), (7, 19), (7, 35), (8, 20), (8, 36), (9, 21), (9, 37), (10, 22), (10, 38), (11, 23), (11, 39), (12, 24), (13, 25), (14, 26), (15, 27), (16, 28), (17, 29), (18, 30), (19, 31), (20, 32), (21, 33), (22, 34), (23, 35), (24, 36), (25, 37), (26, 38), (27, 39)], 13.0: [(0, 13), (0, 27), (1, 14), (1, 28), (2, 15), (2, 29), (3, 16), (3, 30), (4, 17), (4, 31), (5, 18), (5, 32), (6, 19), (6, 33), (7, 20), (7, 34), (8, 21), (8, 35), (9, 22), (9, 36), (10, 23), (10, 37), (11, 24), (11, 38), (12, 25), (12, 39), (13, 26), (14, 27), (15, 28), (16, 29), (17, 30), (18, 31), (19, 32), (20, 33), (21, 34), (22, 35), (23, 36), (24, 37), (25, 38), (26, 39)], 14.0: [(0, 14), (0, 26), (1, 15), (1, 27), (2, 16), (2, 28), (3, 17), (3, 29), (4, 18), (4, 30), (5, 19), (5, 31), (6, 20), (6, 32), (7, 21), (7, 33), (8, 22), (8, 34), (9, 23), (9, 35), (10, 24), (10, 36), (11, 25), (11, 37), (12, 26), (12, 38), (13, 27), (13, 39), (14, 28), (15, 29), (16, 30), (17, 31), (18, 32), (19, 33), (20, 34), (21, 35), (22, 36), (23, 37), (24, 38), (25, 39)], 15.0: [(0, 15), (0, 25), (1, 16), (1, 26), (2, 17), (2, 27), (3, 18), (3, 28), (4, 19), (4, 29), (5, 20), (5, 30), (6, 21), (6, 31), (7, 22), (7, 32), (8, 23), (8, 33), (9, 24), (9, 34), (10, 25), (10, 35), (11, 26), (11, 36), (12, 27), (12, 37), (13, 28), (13, 38), (14, 29), (14, 39), (15, 30), (16, 31), (17, 32), (18, 33), (19, 34), (20, 35), (21, 36), (22, 37), (23, 38), (24, 39)], 16.0: [(0, 16), (0, 24), (1, 17), (1, 25), (2, 18), (2, 26), (3, 19), (3, 27), (4, 20), (4, 28), (5, 21), (5, 29), (6, 22), (6, 30), (7, 23), (7, 31), (8, 24), (8, 32), (9, 25), (9, 33), (10, 26), (10, 34), (11, 27), (11, 35), (12, 28), (12, 36), (13, 29), (13, 37), (14, 30), (14, 38), (15, 31), (15, 39), (16, 32), (17, 33), (18, 34), (19, 35), (20, 36), (21, 37), (22, 38), (23, 39)], 17.0: [(0, 17), (0, 23), (1, 18), (1, 24), (2, 19), (2, 25), (3, 20), (3, 26), (4, 21), (4, 27), (5, 22), (5, 28), (6, 23), (6, 29), (7, 24), (7, 30), (8, 25), (8, 31), (9, 26), (9, 32), (10, 27), (10, 33), (11, 28), (11, 34), (12, 29), (12, 35), (13, 30), (13, 36), (14, 31), (14, 37), (15, 32), (15, 38), (16, 33), (16, 39), (17, 34), (18, 35), (19, 36), (20, 37), (21, 38), (22, 39)], 18.0: [(0, 18), (0, 22), (1, 19), (1, 23), (2, 20), (2, 24), (3, 21), (3, 25), (4, 22), (4, 26), (5, 23), (5, 27), (6, 24), (6, 28), (7, 25), (7, 29), (8, 26), (8, 30), (9, 27), (9, 31), (10, 28), (10, 32), (11, 29), (11, 33), (12, 30), (12, 34), (13, 31), (13, 35), (14, 32), (14, 36), (15, 33), (15, 37), (16, 34), (16, 38), (17, 35), (17, 39), (18, 36), (19, 37), (20, 38), (21, 39)], 19.0: [(0, 19), (0, 21), (1, 20), (1, 22), (2, 21), (2, 23), (3, 22), (3, 24), (4, 23), (4, 25), (5, 24), (5, 26), (6, 25), (6, 27), (7, 26), (7, 28), (8, 27), (8, 29), (9, 28), (9, 30), (10, 29), (10, 31), (11, 30), (11, 32), (12, 31), (12, 33), (13, 32), (13, 34), (14, 33), (14, 35), (15, 34), (15, 36), (16, 35), (16, 37), (17, 36), (17, 38), (18, 37), (18, 39), (19, 38), (20, 39)], 20.0: [(0, 20), (1, 21), (2, 22), (3, 23), (4, 24), (5, 25), (6, 26), (7, 27), (8, 28), (9, 29), (10, 30), (11, 31), (12, 32), (13, 33), (14, 34), (15, 35), (16, 36), (17, 37), (18, 38), (19, 39)]}\n"
     ]
    }
   ],
   "source": [
    "print(shortestpathdict)"
   ]
  },
  {
   "cell_type": "markdown",
   "metadata": {},
   "source": [
    "Make the K vs Spatial Correlation Graph"
   ]
  },
  {
   "cell_type": "code",
   "execution_count": 23,
   "metadata": {},
   "outputs": [
    {
     "name": "stdout",
     "output_type": "stream",
     "text": [
      "[1.0, 2.0, 3.0, 4.0, 5.0, 6.0, 7.0, 8.0, 9.0, 10.0, 11.0, 12.0, 13.0, 14.0, 15.0, 16.0, 17.0, 18.0, 19.0, 20.0]\n",
      "[0.5786333333333333, 0.24205880952380956, 0.09566432539682541, 0.03739418650793651, 0.014540515873015875, 0.005395714285714286, 0.0019924603174603173, 0.0007542857142857143, 0.00031734126984126984, 0.0001442063492063492, 6.666666666666667e-05, 3.3333333333333335e-05, 3.3333333333333335e-05, 2.222222222222222e-05, 1.111111111111111e-05, 0.0, 0.0, 0.0, 0.0, 0.0]\n"
     ]
    }
   ],
   "source": [
    "ks = []\n",
    "spatialcorrs = []\n",
    "\n",
    "for k, v in shortestpathdict.items():\n",
    "    temp = []\n",
    "    ks.append(k)\n",
    "    for element in v:\n",
    "        temp.append(average[element[0]][element[1]])\n",
    "    spatialcorrs.append(np.mean(temp))\n",
    "\n",
    "print(ks)\n",
    "print(spatialcorrs)\n",
    "\n"
   ]
  },
  {
   "cell_type": "code",
   "execution_count": 24,
   "metadata": {},
   "outputs": [
    {
     "data": {
      "image/png": "[encoded data removed]",
      "text/plain": [
       "<Figure size 640x480 with 1 Axes>"
      ]
     },
     "metadata": {},
     "output_type": "display_data"
    }
   ],
   "source": [
    "import matplotlib.pyplot as plt\n",
    "# Plot scatter plot\n",
    "plt.scatter(ks, spatialcorrs, color='blue', label='Data Points')\n",
    "\n",
    "# Plot line joining points\n",
    "plt.plot(ks, spatialcorrs, color='red', linestyle='-', marker='o', label='Line')\n",
    "plt.yscale('log')\n",
    "# Add labels and legend\n",
    "plt.xlabel('Shortest Path Length')\n",
    "plt.ylabel('Spatial Correlation')\n",
    "plt.title('Shortest Path Length vs Spatial Correlation')\n",
    "plt.legend()\n",
    "\n",
    "# Show plot\n",
    "plt.grid(True)\n",
    "plt.show()"
   ]
  }
 ],
 "metadata": {
  "kernelspec": {
   "display_name": "Python 3",
   "language": "python",
   "name": "python3"
  },
  "language_info": {
   "codemirror_mode": {
    "name": "ipython",
    "version": 3
   },
   "file_extension": ".py",
   "mimetype": "text/x-python",
   "name": "python",
   "nbconvert_exporter": "python",
   "pygments_lexer": "ipython3",
   "version": "3.12.2"
  }
 },
 "nbformat": 4,
 "nbformat_minor": 2
}
