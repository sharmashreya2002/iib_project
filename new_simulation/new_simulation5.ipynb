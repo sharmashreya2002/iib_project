{
 "cells": [
  {
   "cell_type": "code",
   "execution_count": 18,
   "metadata": {},
   "outputs": [],
   "source": [
    "import numpy as np\n"
   ]
  },
  {
   "cell_type": "code",
   "execution_count": 38,
   "metadata": {},
   "outputs": [],
   "source": [
    "# network size N\n",
    "N = 5\n",
    "\n",
    "# number of edges\n",
    "M = N*3\n",
    "\n",
    "## initialize time\n",
    "T = 0\n",
    "## choose Tmax\n",
    "Tmax = 5\n",
    "\n",
    "# network size N\n",
    "N = 5\n",
    "\n",
    "# number of edges\n",
    "M = N*3\n",
    "\n",
    "Tmax = 5\n"
   ]
  },
  {
   "cell_type": "code",
   "execution_count": 47,
   "metadata": {},
   "outputs": [],
   "source": [
    "# network size N\n",
    "N = 5\n",
    "\n",
    "# number of edges\n",
    "M = N*3\n",
    "\n",
    "Tmax = 5\n",
    "\n",
    "class Counter(dict):\n",
    "    def increment(self, item, delta = 1):\n",
    "        new_val = delta + self.pop(item, 0)\n",
    "        if new_val > 0:\n",
    "            self[item] = new_val\n",
    "\n",
    "## inputs are the initial condition and the edge matrix\n",
    "def find_tranformation_matrix(b, E):\n",
    "\n",
    "    ## find the number of events that occur in the interval from T = 0 to T = Tmax\n",
    "    n = np.random.poisson(lam = Tmax*(N+b*M))\n",
    "\n",
    "    ## find times for all events\n",
    "    times = np.sort(np.random.uniform(0, Tmax, n))\n",
    "\n",
    "    ## initialize boolean identity Matrix A of dimensions NxN\n",
    "    X = np.identity(N, dtype=bool)\n",
    "    \n",
    "    vf = np.vectorize(lambda x: 2**x)\n",
    "    ints = np.array(list(range(N)))\n",
    "    I = vf(ints)\n",
    "\n",
    "    counts = Counter()\n",
    "    for element in I:\n",
    "        counts.increment(element, 1)\n",
    "    # number of non-zero rows\n",
    "    z = np.ones(N, dtype=bool)\n",
    "\n",
    "    ## initialize the number of distinct rows to N (start with Identity matrix)\n",
    "    distinct_rows = N\n",
    "\n",
    "    # run simulation\n",
    "    for t in range(n):\n",
    "        \n",
    "        ## recovery event occurs (turns diagonal entry to 0 and premultiplies A) == row i of A is set to False \n",
    "        if np.random.random() < N/(N + b*M):\n",
    "\n",
    "            i = np.random.randint(N)\n",
    "\n",
    "            print(f\"recovery event at iteration {t} of node {i}\")\n",
    "        \n",
    "            row_i_not_distinct = I[i] in counts and counts[I[i]] > 1\n",
    "\n",
    "            ## if the row is already all zeros, nothing needs to be done (no change in distinct rows)\n",
    "            if z[i] == True:\n",
    "\n",
    "                X[i, :] = False\n",
    "\n",
    "                z[i] == False\n",
    "\n",
    "                I[i] = 0\n",
    "\n",
    "                counts.increment(I[i], -1)\n",
    "                counts.increment(0, 1)\n",
    "\n",
    "                if 0 in counts and counts[0] >= 1:\n",
    "                    ## if there is at least one non zero row, and the row being zeroed was distinct, then the number of distinct rows decreases by 1\n",
    "                    if row_i_not_distinct == False:\n",
    "\n",
    "                        distinct_rows -= 1\n",
    "                    ## if there is at least one non zero row and the row being zeroed was not distinct, then the number of distinct rows remains the same\n",
    "                     \n",
    "                else:\n",
    "                    ## if there are no nonzero rows, and the row being zeroed was not distinct, then the number of distinct rows increases by 1\n",
    "                    if row_i_not_distinct == True:\n",
    "                            \n",
    "                        distinct_rows = min(distinct_rows + 1, N)\n",
    "                    ## if there are no nonzero rows, and the row being zeroed was distinct, then the number of distinct rows remains the same\n",
    "\n",
    "        else:\n",
    "        ## spreading event (turns symmetric entries to 1 and premultiplies A) == row i and j of A is set to the OR of row i and j\n",
    "        ## check if the two rows being ORed are all zero rows, if yes, nothing to be done; else, OR the rows and set corresponding entries in Z to True\n",
    "\n",
    "            i,j = E[np.random.randint(M)]\n",
    "\n",
    "            print(f\"spreading event at iteration {t} of nodes {i} and {j}\")\n",
    "\n",
    "            if I[i] != 0 or I[j] != 0:\n",
    "\n",
    "                ## nothing happens if two rows being ORed are two zero rows\n",
    "\n",
    "                if I[i] != I[j]:\n",
    "                    \n",
    "                    ## no change in distinct rows if the two rows being ORed are the same\n",
    "                    # have confirmed that row A and row B are not the same and at least one of them is nonzero\n",
    "                    \n",
    "                    new = int(''.join('1' if x else '0' for x in np.logical_or(X[i], X[j]))[::-1], 2)\n",
    "                    new_not_distinct = new in counts and counts[new] >= 1\n",
    "                    print(new_not_distinct)\n",
    "                    row_i_not_distinct = I[i] in counts and counts[I[i]] > 1\n",
    "                    print(row_i_not_distinct)\n",
    "                    row_j_not_distinct = I[j] in counts and counts[I[j]] > 1\n",
    "                    print(row_j_not_distinct)\n",
    "\n",
    "                    ## if the row being created is distinct, but the rows being collapsed were also distinct, then the number of distinct rows is one less\n",
    "                    # if the row being created is distinct, but ONE of the rows being collapsed was distinct, then the number of distinct rows is the same\n",
    "                    ## if the row being created is distinct, but NEITHER of the rows collapsed were distinct, then the number of distinct rows is increasing by 1\n",
    "                    if new_not_distinct == False:\n",
    "                        if row_i_not_distinct == False and row_j_not_distinct == False:\n",
    "                            distinct_rows -= 1\n",
    "                        if (row_i_not_distinct == False and row_j_not_distinct == True) or (row_i_not_distinct == True and row_j_not_distinct == False):\n",
    "                            distinct_rows = distinct_rows\n",
    "                        if row_i_not_distinct == True and row_j_not_distinct == True:\n",
    "                            distinct_rows = min(distinct_rows + 1, N)\n",
    "                    ## if the row being created is not distinct, but BOTH the rows being collapsed were, then the number of distinct rows decreases by 2\n",
    "                    ## if the row being created is not distinct, but ONE of the rows being collapsed was, then the number of distinct rows decreases by 1\n",
    "                    ## if the row being created is not distinct, but NEITHER of the rows being collapsed were, then the number of distinct rows remains the same\n",
    "                    else:\n",
    "                        if row_i_not_distinct == False and row_j_not_distinct == False:\n",
    "                            distinct_rows -= 2\n",
    "                        if (row_i_not_distinct == False and row_j_not_distinct == True) or (row_i_not_distinct == True and row_j_not_distinct == False):\n",
    "                            distinct_rows -= 1\n",
    "                    \n",
    "                ## progres the simulation normally\n",
    "                X[i] = X[j] = np.logical_or(X[i], X[j])\n",
    "                z[i] = z[j] = True\n",
    "                counts.increment(I[i], -1)\n",
    "                counts.increment(I[j], -1)\n",
    "                counts.increment(new, 1)\n",
    "                I[i] = I[j] = new\n",
    "                          \n",
    "        print(distinct_rows)    \n",
    "        ## break the simulation because the pseudo mixing time has been found (the number of distinct rows and thus distinct columns is 2)\n",
    "        if distinct_rows == 2:\n",
    "            \n",
    "            break\n",
    "\n",
    "    return X, I\n",
    "\n",
    "\n",
    "\n"
   ]
  },
  {
   "cell_type": "code",
   "execution_count": 48,
   "metadata": {},
   "outputs": [
    {
     "name": "stdout",
     "output_type": "stream",
     "text": [
      "recovery event at iteration 0 of node 3\n",
      "4\n",
      "spreading event at iteration 1 of nodes 3 and 3\n",
      "4\n",
      "spreading event at iteration 2 of nodes 2 and 3\n",
      "True\n",
      "False\n",
      "False\n",
      "2\n",
      "(array([[ True, False, False, False, False],\n",
      "       [False,  True, False, False, False],\n",
      "       [False, False,  True, False, False],\n",
      "       [False, False,  True, False, False],\n",
      "       [False, False, False, False,  True]]), array([ 1,  2,  4,  4, 16]))\n"
     ]
    }
   ],
   "source": [
    "b = 0.5\n",
    "\n",
    "## random edge matrix\n",
    "E = np.random.randint(0,N,size=2*M).reshape((N*3, 2))\n",
    "\n",
    "x0 = np.ones(N, dtype=bool)\n",
    "matrix_A = find_tranformation_matrix(b, E)\n",
    "print(matrix_A)\n"
   ]
  },
  {
   "cell_type": "code",
   "execution_count": 21,
   "metadata": {},
   "outputs": [
    {
     "name": "stdout",
     "output_type": "stream",
     "text": [
      "[0 0 0 0 0 1 0 1]\n"
     ]
    }
   ],
   "source": [
    "# Your decimal number\n",
    "decimal_number = 5\n",
    "\n",
    "# The length of the binary string\n",
    "length = 8\n",
    "\n",
    "# Convert the decimal number to a binary string of a specific length\n",
    "binary_string = format(decimal_number, '0' + str(length) + 'b')\n",
    "binary_array = np.array([int(bit) for bit in binary_string])\n",
    "print(binary_array)\n",
    "\n"
   ]
  },
  {
   "cell_type": "code",
   "execution_count": 26,
   "metadata": {},
   "outputs": [
    {
     "name": "stdout",
     "output_type": "stream",
     "text": [
      "[ 1  2  4  8 16]\n"
     ]
    }
   ],
   "source": [
    "vf = np.vectorize(lambda x: 2**x)\n",
    "X = np.array(list(range(N)))\n",
    "I = vf(X)\n",
    "print(I)\n"
   ]
  },
  {
   "cell_type": "code",
   "execution_count": 37,
   "metadata": {},
   "outputs": [
    {
     "name": "stdout",
     "output_type": "stream",
     "text": [
      "5\n",
      "{2: 1, 4: 1, 8: 1, 16: 1, 1: 2}\n",
      "2\n",
      "False\n"
     ]
    },
    {
     "ename": "KeyError",
     "evalue": "0",
     "output_type": "error",
     "traceback": [
      "\u001b[1;31m---------------------------------------------------------------------------\u001b[0m",
      "\u001b[1;31mKeyError\u001b[0m                                  Traceback (most recent call last)",
      "\u001b[1;32m~\\AppData\\Local\\Temp\\ipykernel_6612\\3456249956.py\u001b[0m in \u001b[0;36m<module>\u001b[1;34m\u001b[0m\n\u001b[0;32m     19\u001b[0m \u001b[0mprint\u001b[0m\u001b[1;33m(\u001b[0m\u001b[0mrow_i_not_distinct\u001b[0m\u001b[1;33m)\u001b[0m\u001b[1;33m\u001b[0m\u001b[1;33m\u001b[0m\u001b[0m\n\u001b[0;32m     20\u001b[0m \u001b[1;33m\u001b[0m\u001b[0m\n\u001b[1;32m---> 21\u001b[1;33m \u001b[0mcounts\u001b[0m\u001b[1;33m[\u001b[0m\u001b[1;36m0\u001b[0m\u001b[1;33m]\u001b[0m \u001b[1;33m>=\u001b[0m \u001b[1;36m1\u001b[0m\u001b[1;33m\u001b[0m\u001b[1;33m\u001b[0m\u001b[0m\n\u001b[0m",
      "\u001b[1;31mKeyError\u001b[0m: 0"
     ]
    }
   ],
   "source": [
    "class Counter(dict):\n",
    "    def increment(self, item, delta = 1):\n",
    "        new_val = delta + self.pop(item, 0)\n",
    "        if new_val > 0:\n",
    "            self[item] = new_val\n",
    "\n",
    "counts = Counter()\n",
    "for element in I:\n",
    "    counts.increment(element, 1)\n",
    "\n",
    "counts.increment(1, 1)\n",
    "print(len(counts))\n",
    "print(counts)\n",
    "print(counts[1])\n",
    "\n",
    "\n",
    "I[1]\n",
    "row_i_not_distinct = I[1] in counts and counts[I[1]] > 1\n",
    "print(row_i_not_distinct)\n",
    "\n",
    "counts[0] >= 1\n"
   ]
  }
 ],
 "metadata": {
  "kernelspec": {
   "display_name": "iibproject",
   "language": "python",
   "name": "python3"
  },
  "language_info": {
   "codemirror_mode": {
    "name": "ipython",
    "version": 3
   },
   "file_extension": ".py",
   "mimetype": "text/x-python",
   "name": "python",
   "nbconvert_exporter": "python",
   "pygments_lexer": "ipython3",
   "version": "3.7.16"
  }
 },
 "nbformat": 4,
 "nbformat_minor": 2
}
