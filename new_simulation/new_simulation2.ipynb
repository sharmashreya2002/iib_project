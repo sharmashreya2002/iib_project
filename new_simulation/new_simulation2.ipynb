{
 "cells": [
  {
   "cell_type": "code",
   "execution_count": 1,
   "metadata": {},
   "outputs": [],
   "source": [
    "import numpy as np\n"
   ]
  },
  {
   "cell_type": "code",
   "execution_count": 2,
   "metadata": {},
   "outputs": [],
   "source": [
    "# network size N\n",
    "N = 3\n",
    "\n",
    "# number of edges\n",
    "M = N*3\n",
    "\n",
    "## initialize time\n",
    "T = 0\n",
    "## choose Tmax\n",
    "Tmax = 5\n"
   ]
  },
  {
   "cell_type": "code",
   "execution_count": 3,
   "metadata": {},
   "outputs": [],
   "source": [
    "## inputs are the initial condition and the edge matrix\n",
    "def find_tranformation_matrix(b, E):\n",
    "\n",
    "    # ## find the number of events that occur in the interval from T = 0 to T = Tmax\n",
    "    n = np.random.poisson(lam = Tmax*(N+b*M))\n",
    "\n",
    "    ## find times for all events\n",
    "    times = np.sort(np.random.uniform(0, Tmax, n))\n",
    "\n",
    "    ## initialize boolean identity Matrix A of dimensions NxN\n",
    "    X = np.identity(N, dtype=bool)\n",
    "\n",
    "    # run simulation\n",
    "    for t in range(n):\n",
    "\n",
    "        Iden = np.identity(N, dtype=bool)\n",
    "        \n",
    "        ## recovery event occurs (turns diagonal entry to 0 and premultiplies A) == row i of A is set to False\n",
    "        if np.random.random() < N/(N + b*M):\n",
    "\n",
    "            i = np.random.randint(N)\n",
    "            X[i, :] = False\n",
    "\n",
    "            print(f\"recovery event at iteration {t} of node {i}\")\n",
    "\n",
    "        else:\n",
    "        ## spreading event (turns symmetric entries to 1 and premultiplies A) == row i and j of A is set to the OR of row i and j\n",
    "\n",
    "            i,j = E[np.random.randint(M)]\n",
    "            print(f\"spreading event at iteration {t} of nodes {i} and {j}\")\n",
    "\n",
    "            X[i] = X[j] = np.logical_or(X[i], X[j])\n",
    "\n",
    "        ## if zero infected people, break simulation, truncate infected array\n",
    "        if np.all(X == 0) == True:\n",
    "            \n",
    "            break\n",
    "\n",
    "    return X\n"
   ]
  },
  {
   "cell_type": "code",
   "execution_count": 5,
   "metadata": {},
   "outputs": [
    {
     "name": "stdout",
     "output_type": "stream",
     "text": [
      "recovery event at iteration 0 of node 2\n",
      "spreading event at iteration 1 of nodes 1 and 0\n",
      "recovery event at iteration 2 of node 1\n",
      "recovery event at iteration 3 of node 0\n",
      "[[False False False]\n",
      " [False False False]\n",
      " [False False False]]\n"
     ]
    }
   ],
   "source": [
    "b = 0.5\n",
    "\n",
    "## random edge matrix\n",
    "E = np.random.randint(0,N,size=2*M).reshape((N*3, 2))\n",
    "\n",
    "x0 = np.ones(N, dtype=bool)\n",
    "\n",
    "matrix_A = find_tranformation_matrix(b, E)\n",
    "\n",
    "print(matrix_A)\n"
   ]
  }
 ],
 "metadata": {
  "kernelspec": {
   "display_name": "iibproject",
   "language": "python",
   "name": "python3"
  },
  "language_info": {
   "codemirror_mode": {
    "name": "ipython",
    "version": 3
   },
   "file_extension": ".py",
   "mimetype": "text/x-python",
   "name": "python",
   "nbconvert_exporter": "python",
   "pygments_lexer": "ipython3",
   "version": "3.7.16"
  }
 },
 "nbformat": 4,
 "nbformat_minor": 2
}
