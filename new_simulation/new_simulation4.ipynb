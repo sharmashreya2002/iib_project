{
 "cells": [
  {
   "cell_type": "code",
   "execution_count": 17,
   "metadata": {},
   "outputs": [],
   "source": [
    "import numpy as np\n"
   ]
  },
  {
   "cell_type": "code",
   "execution_count": 18,
   "metadata": {},
   "outputs": [],
   "source": [
    "# network size N\n",
    "N = 3\n",
    "\n",
    "# number of edges\n",
    "M = N*3\n",
    "\n",
    "## initialize time\n",
    "T = 0\n",
    "## choose Tmax\n",
    "Tmax = 5\n"
   ]
  },
  {
   "cell_type": "code",
   "execution_count": 23,
   "metadata": {},
   "outputs": [],
   "source": [
    "## inputs are the initial condition and the edge matrix\n",
    "def find_tranformation_matrix(b, E):\n",
    "\n",
    "    # ## find the number of events that occur in the interval from T = 0 to T = Tmax\n",
    "    n = np.random.poisson(lam = Tmax*(N+b*M))\n",
    "\n",
    "    ## find times for all events\n",
    "    times = np.sort(np.random.uniform(0, Tmax, n))\n",
    "\n",
    "    ## initialize boolean identity Matrix A of dimensions NxN\n",
    "    X = np.identity(N, dtype=bool)\n",
    "    \n",
    "    ## number of non-zero rows\n",
    "    z = np.ones(N, dtype=bool)\n",
    "\n",
    "    ## initialize the number of distinct rows to N (start with Identity matrix)\n",
    "    distinct_rows = N\n",
    "\n",
    "    # run simulation\n",
    "    for t in range(n):\n",
    "        \n",
    "        ## recovery event occurs (turns diagonal entry to 0 and premultiplies A) == row i of A is set to False \n",
    "        ## check if it is an all zero row by checking correpsonding entry in Z, if yes, nothing to be done; else, zero row and set corresponding entry in Z to False\n",
    "        if np.random.random() < N/(N + b*M):\n",
    "\n",
    "            i = np.random.randint(N)\n",
    "\n",
    "            print(f\"recovery event at iteration {t} of node {i}\")\n",
    "\n",
    "            if z[i] == True:\n",
    "\n",
    "                row_i_not_distinct = np.any(np.all(X == X[i], axis=1)) \n",
    "\n",
    "                X[i, :] = False\n",
    "\n",
    "                z[i] == False\n",
    "\n",
    "                non_zero_rows = np.sum(z)\n",
    "\n",
    "                if non_zero_rows <= N-1:\n",
    "                    ## if there is at least one non zero row, and the row being zeroed was distinct, then the number of distinct rows decreases by 1\n",
    "                    if row_i_not_distinct == False:\n",
    "\n",
    "                        distinct_rows -= 1\n",
    "                    ## if there is at least one non zero row and the row being zeroed was not distinct, then the number of distinct rows remains the same\n",
    "                    else:\n",
    "\n",
    "                        pass\n",
    "                     \n",
    "                else:\n",
    "                    ## if there are no nonzero rows, and the row being zeroed was not distinct, then the number of distinct rows increases by 1\n",
    "                    if row_i_not_distinct == True:\n",
    "                            \n",
    "                            distinct_rows += 1\n",
    "                    ## if there are no nonzero rows, and the row being zeroed was distinct, then the number of distinct rows remains the same\n",
    "                    else:\n",
    "                        \n",
    "                        pass\n",
    "\n",
    "        else:\n",
    "        ## spreading event (turns symmetric entries to 1 and premultiplies A) == row i and j of A is set to the OR of row i and j\n",
    "        ## check if the two rows being ORed are all zero rows, if yes, nothing to be done; else, OR the rows and set corresponding entries in Z to True\n",
    "\n",
    "            i,j = E[np.random.randint(M)]\n",
    "\n",
    "            print(f\"spreading event at iteration {t} of nodes {i} and {j}\")\n",
    "\n",
    "            if z[i] == z[j] == False:\n",
    "\n",
    "                ## nothing happens if two rows being ORed are two zero rows\n",
    "\n",
    "                pass\n",
    "\n",
    "            else:\n",
    "\n",
    "                if np.array_equal(X[i], X[j]):\n",
    "                    \n",
    "                    pass \n",
    "                    ## no change in distinct rows because the two rows being ORed are the same\n",
    "                \n",
    "\n",
    "                # have confirmed that row A and row B are not the same and at least one of them is nonzero\n",
    "                else:\n",
    "                    \n",
    "                    new_not_distinct = np.any(np.all(X == np.logical_or(X[i], X[j]), axis=1))\n",
    "                    row_i_not_distinct = np.any(np.all(X == X[i], axis=1)) \n",
    "                    row_j_not_distinct = np.any(np.all(X == X[j], axis=1))\n",
    "\n",
    "                    ## if the row being created is distinct, but the rows being collapsed were also distinct, then the number of distinct rows is one less\n",
    "                    # if the row being created is distinct, but ONE of the rows being collapsed was distinct, then the number of distinct rows is the same\n",
    "                    ## if the row being created is distinct, but NEITHER of the rows collapsed were distinct, then the number of distinct rows is increasing by 1\n",
    "                    if new_not_distinct == False:\n",
    "                        if row_i_not_distinct == False and row_j_not_distinct == False:\n",
    "                            distinct_rows -= 1\n",
    "                        elif row_i_not_distinct == False ^ row_j_not_distinct == False:\n",
    "                            pass \n",
    "                        else:\n",
    "                            distinct_rows += 1\n",
    "                    ## if the row being created is not distinct, but BOTH the rows being collapsed were, then the number of distinct rows decreases by 2\n",
    "                    ## if the row being created is not distinct, but ONE of the rows being collapsed was, then the number of distinct rows decreases by 1\n",
    "                    ## if the row being created is not distinct, but NEITHER of the rows being collapsed were, then the number of distinct rows remains the same\n",
    "                    else:\n",
    "                        if row_i_not_distinct == False and row_j_not_distinct == False:\n",
    "                            distinct_rows -= 2\n",
    "                        elif row_i_not_distinct == True ^ row_j_not_distinct == True:\n",
    "                            distinct_rows -= 1\n",
    "                        else:\n",
    "                            pass\n",
    "                    \n",
    "                ## progres the simulation normally\n",
    "                X[i] = X[j] = np.logical_or(X[i], X[j])\n",
    "\n",
    "                z[i] = z[j] = True\n",
    "            \n",
    "        ## break the simulation because the pseudo mixing time has been found (the number of distinct rows and thus distinct columns is 2)\n",
    "        if distinct_rows == 2:\n",
    "            \n",
    "            break\n",
    "\n",
    "    return X\n",
    "\n"
   ]
  },
  {
   "cell_type": "code",
   "execution_count": 24,
   "metadata": {},
   "outputs": [
    {
     "name": "stdout",
     "output_type": "stream",
     "text": [
      "spreading event at iteration 0 of nodes 2 and 0\n",
      "recovery event at iteration 1 of node 0\n",
      "spreading event at iteration 2 of nodes 1 and 0\n",
      "spreading event at iteration 3 of nodes 0 and 2\n",
      "recovery event at iteration 4 of node 2\n",
      "spreading event at iteration 5 of nodes 2 and 0\n",
      "recovery event at iteration 6 of node 2\n",
      "recovery event at iteration 7 of node 1\n",
      "recovery event at iteration 8 of node 0\n",
      "spreading event at iteration 9 of nodes 1 and 2\n",
      "spreading event at iteration 10 of nodes 0 and 2\n",
      "spreading event at iteration 11 of nodes 1 and 0\n",
      "recovery event at iteration 12 of node 1\n",
      "spreading event at iteration 13 of nodes 2 and 2\n",
      "spreading event at iteration 14 of nodes 2 and 0\n",
      "spreading event at iteration 15 of nodes 1 and 2\n",
      "recovery event at iteration 16 of node 2\n",
      "spreading event at iteration 17 of nodes 0 and 2\n",
      "spreading event at iteration 18 of nodes 2 and 0\n",
      "spreading event at iteration 19 of nodes 2 and 2\n",
      "spreading event at iteration 20 of nodes 1 and 0\n",
      "recovery event at iteration 21 of node 1\n",
      "spreading event at iteration 22 of nodes 2 and 0\n",
      "spreading event at iteration 23 of nodes 2 and 0\n",
      "recovery event at iteration 24 of node 0\n",
      "spreading event at iteration 25 of nodes 1 and 0\n",
      "spreading event at iteration 26 of nodes 1 and 0\n",
      "recovery event at iteration 27 of node 1\n",
      "spreading event at iteration 28 of nodes 1 and 2\n",
      "recovery event at iteration 29 of node 0\n",
      "recovery event at iteration 30 of node 2\n",
      "spreading event at iteration 31 of nodes 1 and 0\n",
      "spreading event at iteration 32 of nodes 1 and 2\n",
      "recovery event at iteration 33 of node 2\n",
      "recovery event at iteration 34 of node 1\n",
      "recovery event at iteration 35 of node 0\n",
      "recovery event at iteration 36 of node 0\n",
      "spreading event at iteration 37 of nodes 1 and 0\n",
      "spreading event at iteration 38 of nodes 2 and 0\n",
      "spreading event at iteration 39 of nodes 1 and 0\n",
      "[[False False False]\n",
      " [False False False]\n",
      " [False False False]]\n"
     ]
    }
   ],
   "source": [
    "b = 0.5\n",
    "\n",
    "## random edge matrix\n",
    "E = np.random.randint(0,N,size=2*M).reshape((N*3, 2))\n",
    "\n",
    "x0 = np.ones(N, dtype=bool)\n",
    "\n",
    "matrix_A = find_tranformation_matrix(b, E)\n",
    "\n",
    "print(matrix_A)\n"
   ]
  },
  {
   "cell_type": "code",
   "execution_count": 5,
   "metadata": {},
   "outputs": [
    {
     "name": "stdout",
     "output_type": "stream",
     "text": [
      "False\n"
     ]
    }
   ],
   "source": [
    "import numpy as np\n",
    "N = 3\n",
    "a = np.ones(N, dtype=bool)\n",
    "b = np.zeros(N, dtype=bool)\n",
    "\n",
    "print(np.array_equal(a,b))\n"
   ]
  },
  {
   "cell_type": "code",
   "execution_count": 20,
   "metadata": {},
   "outputs": [
    {
     "name": "stdout",
     "output_type": "stream",
     "text": [
      "True\n"
     ]
    }
   ],
   "source": [
    "# X = np.identity(N, dtype=bool)\n",
    "\n",
    "X = np.array([[True, True, False], [True, False, True], [True, True, True]])\n",
    "i = 0\n",
    "j = 1\n",
    "new_not_distinct = np.any(np.all(X == np.logical_or(X[i], X[j]), axis=1))\n",
    "print(new_not_distinct)\n"
   ]
  },
  {
   "cell_type": "code",
   "execution_count": 22,
   "metadata": {},
   "outputs": [
    {
     "name": "stdout",
     "output_type": "stream",
     "text": [
      "False\n"
     ]
    }
   ],
   "source": [
    "print(np.array_equal(X[i], X[j]))\n"
   ]
  }
 ],
 "metadata": {
  "kernelspec": {
   "display_name": "iibproject",
   "language": "python",
   "name": "python3"
  },
  "language_info": {
   "codemirror_mode": {
    "name": "ipython",
    "version": 3
   },
   "file_extension": ".py",
   "mimetype": "text/x-python",
   "name": "python",
   "nbconvert_exporter": "python",
   "pygments_lexer": "ipython3",
   "version": "3.7.16"
  }
 },
 "nbformat": 4,
 "nbformat_minor": 2
}
