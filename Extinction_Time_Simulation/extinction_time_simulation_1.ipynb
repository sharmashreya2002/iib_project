{
 "cells": [
  {
   "cell_type": "code",
   "execution_count": 1,
   "metadata": {},
   "outputs": [],
   "source": [
    "import matplotlib.pyplot as plt\n",
    "import numpy as np\n"
   ]
  },
  {
   "cell_type": "code",
   "execution_count": 2,
   "metadata": {},
   "outputs": [],
   "source": [
    "# network size N\n",
    "N = 5000\n",
    "\n",
    "# number of edges\n",
    "M = N*30\n",
    "\n",
    "## initialize time\n",
    "T = 0\n",
    "## choose Tmax\n",
    "Tmax = 1000\n"
   ]
  },
  {
   "cell_type": "code",
   "execution_count": 4,
   "metadata": {},
   "outputs": [
    {
     "name": "stdout",
     "output_type": "stream",
     "text": [
      "[48.55959773 50.19680436]\n"
     ]
    }
   ],
   "source": [
    "def find_extinction_time(b):\n",
    "\n",
    "    ## random edge matrix\n",
    "    E = np.random.randint(0,N,size=2*M).reshape((N*30, 2))\n",
    "\n",
    "    ## find the number of events that occur in the interval from T = 0 to T = Tmax\n",
    "    n = np.random.poisson(lam = Tmax*(N+b*M))\n",
    "\n",
    "    ## find times for all events\n",
    "    times = np.sort(np.random.uniform(0, Tmax, n))\n",
    "\n",
    "    ## start out with all infectious individuals\n",
    "    X = np.ones(N, dtype = int)\n",
    "\n",
    "    ## initialize number infected (all infected)\n",
    "    I = N\n",
    "\n",
    "    ## initialize list of infected people for all timesteps\n",
    "    infected = np.zeros(n)\n",
    "\n",
    "    # run simulation\n",
    "    for t in range(n):\n",
    "\n",
    "        if np.random.random() < N/(N + b*M):\n",
    "\n",
    "            i = np.random.randint(N)\n",
    "\n",
    "            I -= X[i]\n",
    "\n",
    "            X[i] = 0\n",
    "\n",
    "        else:\n",
    "\n",
    "            i,j = E[np.random.randint(M)]\n",
    "\n",
    "            I += X[i] ^ X[j]\n",
    "\n",
    "            X[i] = X[j] = (X[i] or X[j])\n",
    "    \n",
    "        infected[t] = I\n",
    "\n",
    "        ## if zero infected people, break simulation, truncate infected array\n",
    "        if I == 0:\n",
    "\n",
    "            infected = infected[:t]\n",
    "\n",
    "            break\n",
    "\n",
    "    ## return extinction time, if there is no extinction time, the time returned will be Tmax\n",
    "    return times[len(infected)]\n",
    "\n",
    "def extinction_time_simulation(b_array):\n",
    "\n",
    "    extinction_times = np.zeros(len(b_array))\n",
    "\n",
    "    for i, b in zip(np.arange(0, len(b_array), dtype = int), b_array):\n",
    "\n",
    "        ## repeat 20 times for each b value:\n",
    "        ## add code here currently only does one trial, not enough to weed out effects of randomness\n",
    "\n",
    "        extinction_times[i] = find_extinction_time(b)\n",
    "    \n",
    "    return extinction_times\n",
    "\n",
    "b_array = [1/62, 1/70]\n",
    "\n",
    "answer = extinction_time_simulation(b_array)\n",
    "print(answer)\n"
   ]
  },
  {
   "cell_type": "markdown",
   "metadata": {},
   "source": [
    "However, we want to repeat the simulation for each B value at least 20 times to average out the randomness introcued by our base random network. Hence, we will have to extend the list with 20 x the b value and average the results from the 20 trails before proceeding."
   ]
  }
 ],
 "metadata": {
  "kernelspec": {
   "display_name": "iibproject",
   "language": "python",
   "name": "python3"
  },
  "language_info": {
   "codemirror_mode": {
    "name": "ipython",
    "version": 3
   },
   "file_extension": ".py",
   "mimetype": "text/x-python",
   "name": "python",
   "nbconvert_exporter": "python",
   "pygments_lexer": "ipython3",
   "version": "3.7.16"
  }
 },
 "nbformat": 4,
 "nbformat_minor": 2
}
