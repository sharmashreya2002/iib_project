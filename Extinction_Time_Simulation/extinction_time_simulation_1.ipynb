{
 "cells": [
  {
   "cell_type": "code",
   "execution_count": 1,
   "metadata": {},
   "outputs": [],
   "source": [
    "import matplotlib.pyplot as plt\n",
    "import numpy as np\n"
   ]
  },
  {
   "cell_type": "code",
   "execution_count": 2,
   "metadata": {},
   "outputs": [],
   "source": [
    "# network size N\n",
    "N = 5000\n",
    "\n",
    "# number of edges\n",
    "M = N*30\n",
    "\n",
    "## initialize time\n",
    "T = 0\n",
    "## choose Tmax\n",
    "Tmax = 1000\n"
   ]
  },
  {
   "cell_type": "code",
   "execution_count": 6,
   "metadata": {},
   "outputs": [],
   "source": [
    "def find_extinction_time(b):\n",
    "\n",
    "    ## random edge matrix\n",
    "    E = np.random.randint(0,N,size=2*M).reshape((N*30, 2))\n",
    "\n",
    "    ## find the number of events that occur in the interval from T = 0 to T = Tmax\n",
    "    n = np.random.poisson(lam = Tmax*(N+b*M))\n",
    "\n",
    "    ## find times for all events\n",
    "    times = np.sort(np.random.uniform(0, Tmax, n))\n",
    "\n",
    "    ## start out with all infectious individuals\n",
    "    X = np.ones(N, dtype = int)\n",
    "\n",
    "    ## initialize number infected (all infected)\n",
    "    I = N\n",
    "\n",
    "    ## initialize list of infected people for all timesteps\n",
    "    infected = np.zeros(n)\n",
    "\n",
    "    # run simulation\n",
    "    for t in range(n):\n",
    "\n",
    "        if np.random.random() < N/(N + b*M):\n",
    "\n",
    "            i = np.random.randint(N)\n",
    "\n",
    "            I -= X[i]\n",
    "\n",
    "            X[i] = 0\n",
    "\n",
    "        else:\n",
    "\n",
    "            i,j = E[np.random.randint(M)]\n",
    "\n",
    "            I += X[i] ^ X[j]\n",
    "\n",
    "            X[i] = X[j] = (X[i] or X[j])\n",
    "    \n",
    "        infected[t] = I\n",
    "\n",
    "        ## if zero infected people, break simulation, truncate infected array\n",
    "        if I == 0:\n",
    "\n",
    "            infected = infected[:t]\n",
    "\n",
    "            break\n",
    "\n",
    "    ## return extinction time, if there is no extinction time, the time returned will be Tmax\n",
    "    return times[len(infected)- 1]\n",
    "\n",
    "def extinction_time_simulation(b_array):\n",
    "\n",
    "    extinction_times = np.zeros(len(b_array))\n",
    "\n",
    "    for i, b in zip(np.arange(0, len(b_array), dtype = int), b_array):\n",
    "\n",
    "        extinction = 0\n",
    "\n",
    "        if round(find_extinction_time(b)) == Tmax:\n",
    "            \n",
    "            extinction_times[i] = Tmax\n",
    "        \n",
    "        else:\n",
    "        \n",
    "            for t in range(20):\n",
    "\n",
    "                extinction += find_extinction_time(b)\n",
    "\n",
    "            extinction_times[i] = extinction / 20\n",
    "        \n",
    "        print(extinction_times[i])\n",
    "    \n",
    "    return extinction_times\n",
    "\n",
    "\n"
   ]
  },
  {
   "cell_type": "code",
   "execution_count": 4,
   "metadata": {},
   "outputs": [
    {
     "name": "stdout",
     "output_type": "stream",
     "text": [
      "18.53729564247896\n",
      "24.404918980613484\n",
      "120.44700533931113\n",
      "[ 18.53729564  24.40491898 120.44700534]\n"
     ]
    }
   ],
   "source": [
    "b_array1 = [1/100, 1/80, 1/60]\n",
    "results1 = extinction_time_simulation(b_array1)\n",
    "print(results1)\n",
    "\n"
   ]
  },
  {
   "cell_type": "code",
   "execution_count": 7,
   "metadata": {},
   "outputs": [
    {
     "name": "stdout",
     "output_type": "stream",
     "text": [
      "1000.0\n",
      "1000.0\n",
      "1000.0\n",
      "[1000. 1000. 1000.]\n"
     ]
    }
   ],
   "source": [
    "b_array2 = [1/40, 1/20, 1/10]\n",
    "results2 = extinction_time_simulation(b_array2)\n",
    "print(results2)\n"
   ]
  },
  {
   "cell_type": "markdown",
   "metadata": {},
   "source": [
    "All infection rates beyond the ones tested in b_array2 will also take Tmax amount of time. Rather, focus on the interval between 1/100 and 1/40, as well as below 1/100 as well for future b_arrayi. "
   ]
  },
  {
   "cell_type": "code",
   "execution_count": 8,
   "metadata": {},
   "outputs": [
    {
     "name": "stdout",
     "output_type": "stream",
     "text": [
      "18.90220437011902\n",
      "37.39292888526372\n",
      "1000.0\n",
      "[  18.90220437   37.39292889 1000.        ]\n"
     ]
    }
   ],
   "source": [
    "b_array3 = [1/90, 1/70, 1/50]\n",
    "results3 = extinction_time_simulation(b_array3)\n",
    "print(results3)\n"
   ]
  },
  {
   "cell_type": "code",
   "execution_count": 9,
   "metadata": {},
   "outputs": [
    {
     "name": "stdout",
     "output_type": "stream",
     "text": [
      "9.000728205252056\n",
      "10.48735275861974\n",
      "11.909111439269589\n",
      "[ 9.00072821 10.48735276 11.90911144]\n"
     ]
    }
   ],
   "source": [
    "b_array4 = [1/1000, 1/500, 1/250]\n",
    "results4 = extinction_time_simulation(b_array4)\n",
    "print(results4)\n"
   ]
  },
  {
   "cell_type": "code",
   "execution_count": 10,
   "metadata": {},
   "outputs": [
    {
     "name": "stdout",
     "output_type": "stream",
     "text": [
      "1000.0\n",
      "1000.0\n",
      "571.9372740055167\n",
      "[1000.         1000.          571.93727401]\n"
     ]
    }
   ],
   "source": [
    "b_array5 = [1/52, 1/55, 1/58]\n",
    "results5 = extinction_time_simulation(b_array5)\n",
    "print(results5)\n"
   ]
  },
  {
   "cell_type": "code",
   "execution_count": 11,
   "metadata": {},
   "outputs": [
    {
     "name": "stdout",
     "output_type": "stream",
     "text": [
      "1000.0\n",
      "[1000.]\n"
     ]
    }
   ],
   "source": [
    "b_array6 = [1/59]\n",
    "results6 = extinction_time_simulation(b_array6)\n",
    "print(results6)\n"
   ]
  },
  {
   "cell_type": "code",
   "execution_count": 30,
   "metadata": {},
   "outputs": [
    {
     "name": "stdout",
     "output_type": "stream",
     "text": [
      "[0.01, 0.0125, 0.016666666666666666, 0.025, 0.05, 0.1, 0.011111111111111112, 0.014285714285714285, 0.02, 0.001, 0.002, 0.004, 0.019230769230769232, 0.01818181818181818, 0.017241379310344827, 0.01694915254237288]\n",
      "[18.53729564247896, 24.404918980613484, 120.44700533931113, 1000.0, 1000.0, 1000.0, 18.90220437011902, 37.39292888526372, 1000.0, 9.000728205252056, 10.48735275861974, 11.909111439269589, 1000.0, 1000.0, 571.9372740055167, 1000.0]\n",
      "16\n"
     ]
    }
   ],
   "source": [
    "b_array = [1/100, 1/80, 1/60, 1/40, 1/20, 1/10, 1/90, 1/70, 1/50, 1/1000, 1/500, 1/250, 1/52, 1/55, 1/58, 1/59]\n",
    "print(b_array)\n",
    "\n",
    "extinction_times = list(np.concatenate([results1, results2, results3, results4, results5, results6], axis=0))\n",
    "print(extinction_times)\n",
    "print(len(extinction_times))\n"
   ]
  },
  {
   "cell_type": "code",
   "execution_count": 32,
   "metadata": {},
   "outputs": [
    {
     "data": {
      "image/png": "[encoded data removed]",
      "text/plain": [
       "<Figure size 640x480 with 1 Axes>"
      ]
     },
     "metadata": {},
     "output_type": "display_data"
    }
   ],
   "source": [
    "import matplotlib.pyplot as plt\n",
    "plt.scatter(b_array, extinction_times)\n",
    "plt.title('Infection Rate vs. Extinction Time')\n",
    "plt.ylabel('Extinction Time')\n",
    "plt.xlabel('Infection Rate')\n",
    "plt.show()\n"
   ]
  }
 ],
 "metadata": {
  "kernelspec": {
   "display_name": "iibproject",
   "language": "python",
   "name": "python3"
  },
  "language_info": {
   "codemirror_mode": {
    "name": "ipython",
    "version": 3
   },
   "file_extension": ".py",
   "mimetype": "text/x-python",
   "name": "python",
   "nbconvert_exporter": "python",
   "pygments_lexer": "ipython3",
   "version": "3.7.16"
  }
 },
 "nbformat": 4,
 "nbformat_minor": 2
}
