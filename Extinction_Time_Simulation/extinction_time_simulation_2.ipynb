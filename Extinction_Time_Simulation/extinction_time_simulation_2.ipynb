{
 "cells": [
  {
   "cell_type": "code",
   "execution_count": 1,
   "metadata": {},
   "outputs": [],
   "source": [
    "import matplotlib.pyplot as plt\n",
    "import numpy as np\n"
   ]
  },
  {
   "cell_type": "code",
   "execution_count": 4,
   "metadata": {},
   "outputs": [],
   "source": [
    "# network size N\n",
    "N = 5000\n",
    "\n",
    "# number of edges\n",
    "M = N*30\n",
    "\n",
    "## initialize time\n",
    "T = 0\n",
    "## choose Tmax\n",
    "Tmax = 1000\n"
   ]
  },
  {
   "cell_type": "code",
   "execution_count": 3,
   "metadata": {},
   "outputs": [],
   "source": [
    "def find_extinction_time(b):\n",
    "\n",
    "    ## random edge matrix\n",
    "    E = np.random.randint(0,N,size=2*M).reshape((N*30, 2))\n",
    "\n",
    "    ## find the number of events that occur in the interval from T = 0 to T = Tmax\n",
    "    n = np.random.poisson(lam = Tmax*(N+b*M))\n",
    "\n",
    "    ## find times for all events\n",
    "    times = np.sort(np.random.uniform(0, Tmax, n))\n",
    "\n",
    "    ## start out with all infectious individuals\n",
    "    X = np.ones(N, dtype = int)\n",
    "\n",
    "    ## initialize number infected (all infected)\n",
    "    I = N\n",
    "\n",
    "    ## initialize list of infected people for all timesteps\n",
    "    infected = np.zeros(n)\n",
    "\n",
    "    # run simulation\n",
    "    for t in range(n):\n",
    "\n",
    "        if np.random.random() < N/(N + b*M):\n",
    "\n",
    "            i = np.random.randint(N)\n",
    "\n",
    "            I -= X[i]\n",
    "\n",
    "            X[i] = 0\n",
    "\n",
    "        else:\n",
    "\n",
    "            i,j = E[np.random.randint(M)]\n",
    "\n",
    "            I += X[i] ^ X[j]\n",
    "\n",
    "            X[i] = X[j] = (X[i] or X[j])\n",
    "    \n",
    "        infected[t] = I\n",
    "\n",
    "        ## if zero infected people, break simulation, truncate infected array\n",
    "        if I == 0:\n",
    "\n",
    "            infected = infected[:t]\n",
    "\n",
    "            break\n",
    "\n",
    "    ## return extinction time, if there is no extinction time, the time returned will be Tmax\n",
    "    return times[len(infected)- 1]\n",
    "\n",
    "def extinction_time_simulation(b_array):\n",
    "\n",
    "    extinction_times = np.zeros(len(b_array))\n",
    "\n",
    "    for i, b in zip(np.arange(0, len(b_array), dtype = int), b_array):\n",
    "\n",
    "        extinction = 0\n",
    "\n",
    "        if round(find_extinction_time(b)) == Tmax:\n",
    "            \n",
    "            extinction_times[i] = Tmax\n",
    "        \n",
    "        else:\n",
    "        \n",
    "            for t in range(20):\n",
    "\n",
    "                extinction += find_extinction_time(b)\n",
    "\n",
    "            extinction_times[i] = extinction / 20\n",
    "        \n",
    "        print(extinction_times[i])\n",
    "    \n",
    "    return extinction_times\n"
   ]
  },
  {
   "cell_type": "code",
   "execution_count": 4,
   "metadata": {},
   "outputs": [
    {
     "name": "stdout",
     "output_type": "stream",
     "text": [
      "9.607973536654251\n",
      "9.953029944742216\n",
      "9.492011539305148\n",
      "[9.60797354 9.95302994 9.49201154]\n"
     ]
    }
   ],
   "source": [
    "b_array1 = [1/1000, 1/750, 1/500]\n",
    "results1 = extinction_time_simulation(b_array1)\n",
    "print(results1)\n",
    "\n"
   ]
  },
  {
   "cell_type": "code",
   "execution_count": 5,
   "metadata": {},
   "outputs": [
    {
     "name": "stdout",
     "output_type": "stream",
     "text": [
      "10.483571141606202\n",
      "12.015411580341686\n",
      "13.012964027656787\n",
      "[10.48357114 12.01541158 13.01296403]\n"
     ]
    }
   ],
   "source": [
    "b_array2 = [1/250, 1/200, 1/150]\n",
    "results2 = extinction_time_simulation(b_array2)\n",
    "print(results2)\n",
    "\n"
   ]
  },
  {
   "cell_type": "code",
   "execution_count": 7,
   "metadata": {},
   "outputs": [
    {
     "name": "stdout",
     "output_type": "stream",
     "text": [
      "18.139969589047176\n",
      "23.79167786660411\n",
      "35.100200154965435\n",
      "[18.13996959 23.79167787 35.10020015]\n"
     ]
    }
   ],
   "source": [
    "b_array3 = [0.01, 0.012, 0.014]\n",
    "results3 = extinction_time_simulation(b_array3)\n",
    "print(results3)\n",
    "\n"
   ]
  },
  {
   "cell_type": "code",
   "execution_count": 8,
   "metadata": {},
   "outputs": [
    {
     "name": "stdout",
     "output_type": "stream",
     "text": [
      "72.04020068397375\n",
      "1000.0\n",
      "1000.0\n",
      "[  72.04020068 1000.         1000.        ]\n"
     ]
    }
   ],
   "source": [
    "b_array4 = [0.016, 0.018, 0.02]\n",
    "results4 = extinction_time_simulation(b_array4)\n",
    "print(results4)\n",
    "\n"
   ]
  },
  {
   "cell_type": "code",
   "execution_count": 9,
   "metadata": {},
   "outputs": [
    {
     "name": "stdout",
     "output_type": "stream",
     "text": [
      "1000.0\n",
      "1000.0\n",
      "1000.0\n",
      "[1000. 1000. 1000.]\n"
     ]
    }
   ],
   "source": [
    "b_array5 = [0.021, 0.022, 0.023]\n",
    "results5 = extinction_time_simulation(b_array5)\n",
    "print(results5)\n",
    "\n"
   ]
  },
  {
   "cell_type": "code",
   "execution_count": 10,
   "metadata": {},
   "outputs": [
    {
     "name": "stdout",
     "output_type": "stream",
     "text": [
      "74.9147379787459\n",
      "121.0618461107636\n",
      "222.08277318272243\n",
      "[ 74.91473798 121.06184611 222.08277318]\n"
     ]
    }
   ],
   "source": [
    "b_array6 = [0.016, 0.0165, 0.017]\n",
    "results6 = extinction_time_simulation(b_array6)\n",
    "print(results6)\n"
   ]
  },
  {
   "cell_type": "code",
   "execution_count": 11,
   "metadata": {},
   "outputs": [
    {
     "name": "stdout",
     "output_type": "stream",
     "text": [
      "[0.001, 0.0013333333333333333, 0.002, 0.004, 0.005, 0.006666666666666667, 0.01, 0.012, 0.014, 0.016, 0.018, 0.02, 0.021, 0.022, 0.023, 0.016, 0.0165, 0.017]\n",
      "[9.607973536654251, 9.953029944742216, 9.492011539305148, 10.483571141606202, 12.015411580341686, 13.012964027656787, 18.139969589047176, 23.79167786660411, 35.100200154965435, 72.04020068397375, 1000.0, 1000.0, 1000.0, 1000.0, 1000.0, 74.9147379787459, 121.0618461107636, 222.08277318272243]\n",
      "18\n"
     ]
    }
   ],
   "source": [
    "b_array = [1/1000, 1/750, 1/500, 1/250, 1/200, 1/150, 0.01, 0.012, 0.014, 0.016, 0.018, 0.02, 0.021, 0.022, 0.023, 0.016, 0.0165, 0.017]\n",
    "print(b_array)\n",
    "\n",
    "extinction_times = list(np.concatenate([results1, results2, results3, results4, results5, results6], axis=0))\n",
    "print(extinction_times)\n",
    "print(len(extinction_times))\n"
   ]
  },
  {
   "cell_type": "code",
   "execution_count": 15,
   "metadata": {},
   "outputs": [
    {
     "data": {
      "image/png": "[encoded data removed]",
      "text/plain": [
       "<Figure size 640x480 with 1 Axes>"
      ]
     },
     "metadata": {},
     "output_type": "display_data"
    }
   ],
   "source": [
    "import matplotlib.pyplot as plt\n",
    "plt.scatter(b_array, np.log10(extinction_times))\n",
    "plt.title('Infection Rate vs. log(Extinction Time)')\n",
    "plt.ylabel('log(Extinction Time)')\n",
    "plt.xlabel('Infection Rate')\n",
    "plt.show()\n"
   ]
  },
  {
   "cell_type": "code",
   "execution_count": 1,
   "metadata": {},
   "outputs": [
    {
     "ename": "NameError",
     "evalue": "name 'N' is not defined",
     "output_type": "error",
     "traceback": [
      "\u001b[1;31m---------------------------------------------------------------------------\u001b[0m",
      "\u001b[1;31mNameError\u001b[0m                                 Traceback (most recent call last)",
      "\u001b[1;32m~\\AppData\\Local\\Temp\\ipykernel_28648\\3497694797.py\u001b[0m in \u001b[0;36m<module>\u001b[1;34m\u001b[0m\n\u001b[0;32m      7\u001b[0m \u001b[1;33m\u001b[0m\u001b[0m\n\u001b[0;32m      8\u001b[0m \u001b[1;32mfor\u001b[0m \u001b[0mb\u001b[0m \u001b[1;32min\u001b[0m \u001b[0mb_array\u001b[0m\u001b[1;33m:\u001b[0m\u001b[1;33m\u001b[0m\u001b[1;33m\u001b[0m\u001b[0m\n\u001b[1;32m----> 9\u001b[1;33m     \u001b[0mestimate\u001b[0m \u001b[1;33m=\u001b[0m \u001b[1;33m(\u001b[0m\u001b[0mnp\u001b[0m\u001b[1;33m.\u001b[0m\u001b[0mlog\u001b[0m\u001b[1;33m(\u001b[0m\u001b[0mN\u001b[0m\u001b[1;33m)\u001b[0m \u001b[1;33m+\u001b[0m \u001b[1;36m1\u001b[0m\u001b[1;33m)\u001b[0m \u001b[1;33m/\u001b[0m \u001b[1;33m(\u001b[0m\u001b[1;36m1\u001b[0m\u001b[1;33m-\u001b[0m\u001b[1;33m(\u001b[0m\u001b[1;36m2\u001b[0m\u001b[1;33m*\u001b[0m\u001b[0mM\u001b[0m\u001b[1;33m*\u001b[0m\u001b[0mb\u001b[0m\u001b[1;33m/\u001b[0m\u001b[0mN\u001b[0m\u001b[1;33m)\u001b[0m\u001b[1;33m)\u001b[0m\u001b[1;33m\u001b[0m\u001b[1;33m\u001b[0m\u001b[0m\n\u001b[0m\u001b[0;32m     10\u001b[0m     \u001b[0mmodel\u001b[0m\u001b[1;33m.\u001b[0m\u001b[0mappend\u001b[0m\u001b[1;33m(\u001b[0m\u001b[0mestimate\u001b[0m\u001b[1;33m)\u001b[0m\u001b[1;33m\u001b[0m\u001b[1;33m\u001b[0m\u001b[0m\n\u001b[0;32m     11\u001b[0m \u001b[1;33m\u001b[0m\u001b[0m\n",
      "\u001b[1;31mNameError\u001b[0m: name 'N' is not defined"
     ]
    }
   ],
   "source": [
    "y = [9.607973536654251, 9.953029944742216, 9.492011539305148, 10.483571141606202, 12.015411580341686, 13.012964027656787, 18.139969589047176, 23.79167786660411, 35.100200154965435, 72.04020068397375, 1000.0, 1000.0, 1000.0, 1000.0, 1000.0, 74.9147379787459, 121.0618461107636, 222.08277318272243]\n",
    "b_array = [1/1000, 1/750, 1/500, 1/250, 1/200, 1/150, 0.01, 0.012, 0.014, 0.016, 0.018, 0.02, 0.021, 0.022, 0.023, 0.016, 0.0165, 0.017]\n",
    "\n",
    "import numpy as np\n",
    "\n",
    "model = []\n",
    "\n",
    "for b in b_array:\n",
    "    estimate = (np.log(N) + 1) / (1-(2*M*b/N))\n",
    "    model.append(estimate)\n",
    "\n",
    "\n",
    "import matplotlib.pyplot as plt\n",
    "import numpy as np\n",
    "plt.scatter(b_array, np.log10(y))\n",
    "plt.plot([1/60, 1/60], [1, 3])\n",
    "plt.plot(b_array, np.log10(model))\n",
    "plt.title('Infection Rate vs. log(Extinction Time)')\n",
    "plt.ylabel('log(Extinction Time)')\n",
    "plt.xlabel('Infection Rate')\n",
    "plt.show()\n"
   ]
  },
  {
   "cell_type": "code",
   "execution_count": null,
   "metadata": {},
   "outputs": [],
   "source": [
    "(es)\n"
   ]
  }
 ],
 "metadata": {
  "kernelspec": {
   "display_name": "iibproject",
   "language": "python",
   "name": "python3"
  },
  "language_info": {
   "codemirror_mode": {
    "name": "ipython",
    "version": 3
   },
   "file_extension": ".py",
   "mimetype": "text/x-python",
   "name": "python",
   "nbconvert_exporter": "python",
   "pygments_lexer": "ipython3",
   "version": "3.7.16"
  }
 },
 "nbformat": 4,
 "nbformat_minor": 2
}
