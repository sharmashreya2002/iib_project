{
 "cells": [
  {
   "cell_type": "code",
   "execution_count": 1,
   "metadata": {},
   "outputs": [],
   "source": [
    "import matplotlib.pyplot as plt\n",
    "import numpy as np\n"
   ]
  },
  {
   "cell_type": "code",
   "execution_count": 2,
   "metadata": {},
   "outputs": [],
   "source": [
    "# network size N\n",
    "N = 5000\n",
    "\n",
    "# number of edges\n",
    "M = N*30\n",
    "\n",
    "## initialize time\n",
    "T = 0\n",
    "## choose Tmax\n",
    "Tmax = 1000\n"
   ]
  },
  {
   "cell_type": "code",
   "execution_count": 13,
   "metadata": {},
   "outputs": [],
   "source": [
    "def find_extinction_time(b, E):\n",
    "\n",
    "    ## find the number of events that occur in the interval from T = 0 to T = Tmax\n",
    "    n = np.random.poisson(lam = Tmax*(N+b*M))\n",
    "\n",
    "    ## find times for all events\n",
    "    times = np.sort(np.random.uniform(0, Tmax, n))\n",
    "\n",
    "    ## start out with all infectious individuals\n",
    "    X = np.ones(N, dtype = int)\n",
    "\n",
    "    ## initialize number infected (all infected)\n",
    "    I = N\n",
    "\n",
    "    ## initialize list of infected people for all timesteps\n",
    "    infected = np.zeros(n)\n",
    "\n",
    "    # run simulation\n",
    "    for t in range(n):\n",
    "\n",
    "        if np.random.random() < N/(N + b*M):\n",
    "\n",
    "            i = np.random.randint(N)\n",
    "\n",
    "            I -= X[i]\n",
    "\n",
    "            X[i] = 0\n",
    "\n",
    "        else:\n",
    "\n",
    "            i,j = E[np.random.randint(M)]\n",
    "\n",
    "            I += X[i] ^ X[j]\n",
    "\n",
    "            X[i] = X[j] = (X[i] or X[j])\n",
    "    \n",
    "        infected[t] = I\n",
    "\n",
    "        ## if zero infected people, break simulation, truncate infected array\n",
    "        if I == 0:\n",
    "\n",
    "            infected = infected[:t]\n",
    "\n",
    "            break\n",
    "\n",
    "    ## return extinction time, if there is no extinction time, the time returned will be Tmax\n",
    "    return times[len(infected)- 1]\n",
    "\n",
    "def variance_in_extinction_time_simulation(b_array, E):\n",
    "\n",
    "    variances = np.zeros(len(b_array))\n",
    "\n",
    "    for i, b in zip(np.arange(0, len(b_array), dtype = int), b_array):\n",
    "\n",
    "        extinction_times = []\n",
    "\n",
    "        if round(find_extinction_time(b, E)) == Tmax:\n",
    "            \n",
    "            ## just slightly greater than 0 to avoid errors in the log scale \n",
    "            variances[i] = 0.000001\n",
    "        \n",
    "        else:\n",
    "        \n",
    "            for t in range(20):\n",
    "\n",
    "                extinction_times.append(find_extinction_time(b, E))\n",
    "\n",
    "            variances[i] = np.var(extinction_times)\n",
    "        \n",
    "        print(variances[i])\n",
    "    \n",
    "    return variances\n"
   ]
  },
  {
   "cell_type": "code",
   "execution_count": 4,
   "metadata": {},
   "outputs": [
    {
     "name": "stdout",
     "output_type": "stream",
     "text": [
      "1.5108701773743594\n",
      "1.4697771068661987\n",
      "2.0931107316297886\n",
      "0.6008733420313179\n",
      "1.4631362786881197\n",
      "3.2089970975566344\n",
      "13.452980653682095\n",
      "7.415530527465933\n",
      "1.9597117442511274\n",
      "2.9574160280764312\n",
      "4.355975458505973\n",
      "5.991524451043781\n",
      "11.351404281536063\n",
      "40.401327275296175\n",
      "46.545440395389726\n",
      "54.29399570824487\n",
      "147.40814257089\n",
      "532.7375400998123\n",
      "31600.693118337764\n",
      "0.0\n",
      "[1.51087018e+00 1.46977711e+00 2.09311073e+00 6.00873342e-01\n",
      " 1.46313628e+00 3.20899710e+00 1.34529807e+01 7.41553053e+00\n",
      " 1.95971174e+00 2.95741603e+00 4.35597546e+00 5.99152445e+00\n",
      " 1.13514043e+01 4.04013273e+01 4.65454404e+01 5.42939957e+01\n",
      " 1.47408143e+02 5.32737540e+02 3.16006931e+04 0.00000000e+00]\n"
     ]
    }
   ],
   "source": [
    "b_array = np.linspace(0, 0.020, 20)\n",
    "\n",
    "## random edge matrix\n",
    "E = np.random.randint(0,N,size=2*M).reshape((N*30, 2))\n",
    "\n",
    "uniform_variances = variance_in_extinction_time_simulation(b_array, E)\n",
    "print(uniform_variances)\n"
   ]
  },
  {
   "cell_type": "code",
   "execution_count": 11,
   "metadata": {},
   "outputs": [],
   "source": [
    "uniform_variances = [1.5108701773743594,\n",
    "1.4697771068661987,\n",
    "2.0931107316297886,\n",
    "0.6008733420313179,\n",
    "1.4631362786881197,\n",
    "3.2089970975566344,\n",
    "13.452980653682095,\n",
    "7.415530527465933,\n",
    "1.9597117442511274,\n",
    "2.9574160280764312,\n",
    "4.355975458505973,\n",
    "5.991524451043781,\n",
    "11.351404281536063,\n",
    "40.401327275296175,\n",
    "46.545440395389726,\n",
    "54.29399570824487,\n",
    "147.40814257089,\n",
    "532.7375400998123,\n",
    "31600.693118337764,\n",
    "0.0]\n"
   ]
  },
  {
   "cell_type": "code",
   "execution_count": 12,
   "metadata": {},
   "outputs": [
    {
     "name": "stderr",
     "output_type": "stream",
     "text": [
      "c:\\Users\\sharm\\anaconda3\\envs\\iibproject\\lib\\site-packages\\ipykernel_launcher.py:2: RuntimeWarning: divide by zero encountered in log10\n",
      "  \n"
     ]
    },
    {
     "data": {
      "image/png": "[encoded data removed]",
      "text/plain": [
       "<Figure size 640x480 with 1 Axes>"
      ]
     },
     "metadata": {},
     "output_type": "display_data"
    }
   ],
   "source": [
    "import matplotlib.pyplot as plt\n",
    "plt.scatter(b_array, np.log10(uniform_variances))\n",
    "plt.title('Infection Rate vs. Log of the Variance in Extinction Time)')\n",
    "plt.ylabel('Log(Variance in Extinction Time)')\n",
    "plt.xlabel('Infection Rate')\n",
    "plt.show()\n"
   ]
  }
 ],
 "metadata": {
  "kernelspec": {
   "display_name": "iibproject",
   "language": "python",
   "name": "python3"
  },
  "language_info": {
   "codemirror_mode": {
    "name": "ipython",
    "version": 3
   },
   "file_extension": ".py",
   "mimetype": "text/x-python",
   "name": "python",
   "nbconvert_exporter": "python",
   "pygments_lexer": "ipython3",
   "version": "3.7.16"
  }
 },
 "nbformat": 4,
 "nbformat_minor": 2
}
