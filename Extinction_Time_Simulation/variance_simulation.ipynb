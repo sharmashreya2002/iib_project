{
 "cells": [
  {
   "cell_type": "code",
   "execution_count": 1,
   "metadata": {},
   "outputs": [],
   "source": [
    "import matplotlib.pyplot as plt\n",
    "import numpy as np\n"
   ]
  },
  {
   "cell_type": "code",
   "execution_count": 7,
   "metadata": {},
   "outputs": [],
   "source": [
    "# network size N\n",
    "N = 5000\n",
    "\n",
    "# number of edges\n",
    "M = N*30\n",
    "\n",
    "## initialize time\n",
    "T = 0\n",
    "## choose Tmax\n",
    "Tmax = 1000\n"
   ]
  },
  {
   "cell_type": "code",
   "execution_count": 13,
   "metadata": {},
   "outputs": [],
   "source": [
    "def find_extinction_time(b, E):\n",
    "\n",
    "    ## find the number of events that occur in the interval from T = 0 to T = Tmax\n",
    "    n = np.random.poisson(lam = Tmax*(N+b*M))\n",
    "\n",
    "    ## find times for all events\n",
    "    times = np.sort(np.random.uniform(0, Tmax, n))\n",
    "\n",
    "    ## start out with all infectious individuals\n",
    "    X = np.ones(N, dtype = int)\n",
    "\n",
    "    ## initialize number infected (all infected)\n",
    "    I = N\n",
    "\n",
    "    ## initialize list of infected people for all timesteps\n",
    "    infected = np.zeros(n)\n",
    "\n",
    "    # run simulation\n",
    "    for t in range(n):\n",
    "\n",
    "        if np.random.random() < N/(N + b*M):\n",
    "\n",
    "            i = np.random.randint(N)\n",
    "\n",
    "            I -= X[i]\n",
    "\n",
    "            X[i] = 0\n",
    "\n",
    "        else:\n",
    "\n",
    "            i,j = E[np.random.randint(M)]\n",
    "\n",
    "            I += X[i] ^ X[j]\n",
    "\n",
    "            X[i] = X[j] = (X[i] or X[j])\n",
    "    \n",
    "        infected[t] = I\n",
    "\n",
    "        ## if zero infected people, break simulation, truncate infected array\n",
    "        if I == 0:\n",
    "\n",
    "            infected = infected[:t]\n",
    "\n",
    "            break\n",
    "\n",
    "    ## return extinction time, if there is no extinction time, the time returned will be Tmax\n",
    "    return times[len(infected)- 1]\n",
    "\n",
    "def variance_in_extinction_time_simulation(b_array, E):\n",
    "\n",
    "    variances = np.zeros(len(b_array))\n",
    "\n",
    "    for i, b in zip(np.arange(0, len(b_array), dtype = int), b_array):\n",
    "\n",
    "        extinction_times = []\n",
    "\n",
    "        if round(find_extinction_time(b, E)) == Tmax:\n",
    "            \n",
    "            ## just slightly greater than 0 to avoid errors in the log scale \n",
    "            variances[i] = 0.000001\n",
    "        \n",
    "        else:\n",
    "        \n",
    "            for t in range(20):\n",
    "\n",
    "                extinction_times.append(find_extinction_time(b, E))\n",
    "\n",
    "            variances[i] = np.var(extinction_times)\n",
    "        \n",
    "        print(variances[i])\n",
    "    \n",
    "    return variances\n"
   ]
  },
  {
   "cell_type": "markdown",
   "metadata": {},
   "source": [
    "Make a new plot of variance/ extinction times now."
   ]
  },
  {
   "cell_type": "code",
   "execution_count": 10,
   "metadata": {},
   "outputs": [],
   "source": [
    "def find_extinction_time(b, E):\n",
    "\n",
    "    ## find the number of events that occur in the interval from T = 0 to T = Tmax\n",
    "    n = np.random.poisson(lam = Tmax*(N+b*M))\n",
    "\n",
    "    ## find times for all events\n",
    "    times = np.sort(np.random.uniform(0, Tmax, n))\n",
    "\n",
    "    ## start out with all infectious individuals\n",
    "    X = np.ones(N, dtype = int)\n",
    "\n",
    "    ## initialize number infected (all infected)\n",
    "    I = N\n",
    "\n",
    "    ## initialize list of infected people for all timesteps\n",
    "    infected = np.zeros(n)\n",
    "\n",
    "    # run simulation\n",
    "    for t in range(n):\n",
    "\n",
    "        if np.random.random() < N/(N + b*M):\n",
    "\n",
    "            i = np.random.randint(N)\n",
    "\n",
    "            I -= X[i]\n",
    "\n",
    "            X[i] = 0\n",
    "\n",
    "        else:\n",
    "\n",
    "            i,j = E[np.random.randint(M)]\n",
    "\n",
    "            I += X[i] ^ X[j]\n",
    "\n",
    "            X[i] = X[j] = (X[i] or X[j])\n",
    "    \n",
    "        infected[t] = I\n",
    "\n",
    "        ## if zero infected people, break simulation, truncate infected array\n",
    "        if I == 0:\n",
    "\n",
    "            infected = infected[:t]\n",
    "\n",
    "            break\n",
    "\n",
    "    ## return extinction time, if there is no extinction time, the time returned will be Tmax\n",
    "    return times[len(infected)- 1]\n",
    "\n",
    "def variance_in_extinction_time_simulation(b_array, E):\n",
    "\n",
    "    variances = np.zeros(len(b_array))\n",
    "    times = np.zeros(len(b_array))\n",
    "    to_plot = []\n",
    "\n",
    "    for i, b in zip(np.arange(0, len(b_array), dtype = int), b_array):\n",
    "\n",
    "        extinction_times = []\n",
    "\n",
    "        if round(find_extinction_time(b, E)) == Tmax:\n",
    "            \n",
    "            ## just slightly greater than 0 to avoid errors in the log scale \n",
    "            variances[i] = 0.000001\n",
    "            times[i] = Tmax\n",
    "        \n",
    "        else:\n",
    "        \n",
    "            for t in range(20):\n",
    "\n",
    "                extinction_times.append(find_extinction_time(b, E))\n",
    "\n",
    "            variances[i] = np.var(extinction_times)\n",
    "            times[i] = np.average(extinction_times)\n",
    "        \n",
    "        print(times[i], variances[i])\n",
    "        to_plot.append([times[i], variances[i]])\n",
    "    \n",
    "    return to_plot\n"
   ]
  },
  {
   "cell_type": "code",
   "execution_count": 11,
   "metadata": {},
   "outputs": [
    {
     "name": "stdout",
     "output_type": "stream",
     "text": [
      "9.150187709674112 1.8966863656144706\n",
      "10.361563710001404 4.159901797588801\n",
      "10.28801298390747 4.0151635652370015\n",
      "10.843674492342405 2.021266695718521\n",
      "11.304420373603396 2.890391882850905\n",
      "11.794234412020622 2.5845525371036886\n",
      "12.391190135505536 1.9999165848592675\n",
      "13.051080129563942 3.001346137542744\n",
      "15.674608150659234 8.623677638789246\n",
      "18.10778259703914 14.951972766399177\n",
      "18.796810874539283 7.99067650857612\n",
      "21.208226265033122 9.462365365968868\n",
      "26.110503278963883 12.69420560479967\n",
      "34.08876030993365 36.927242913789726\n",
      "41.557119994792195 100.02093975497309\n",
      "66.1857386301751 275.7086154385312\n",
      "179.1159303925255 9168.378408674938\n",
      "1000.0 1e-06\n",
      "1000.0 1e-06\n",
      "1000.0 1e-06\n",
      "[[9.150187709674112, 1.8966863656144706], [10.361563710001404, 4.159901797588801], [10.28801298390747, 4.0151635652370015], [10.843674492342405, 2.021266695718521], [11.304420373603396, 2.890391882850905], [11.794234412020622, 2.5845525371036886], [12.391190135505536, 1.9999165848592675], [13.051080129563942, 3.001346137542744], [15.674608150659234, 8.623677638789246], [18.10778259703914, 14.951972766399177], [18.796810874539283, 7.99067650857612], [21.208226265033122, 9.462365365968868], [26.110503278963883, 12.69420560479967], [34.08876030993365, 36.927242913789726], [41.557119994792195, 100.02093975497309], [66.1857386301751, 275.7086154385312], [179.1159303925255, 9168.378408674938], [1000.0, 1e-06], [1000.0, 1e-06], [1000.0, 1e-06]]\n"
     ]
    }
   ],
   "source": [
    "b_array = np.linspace(0, 0.020, 20)\n",
    "\n",
    "## random edge matrix\n",
    "E = np.random.randint(0,N,size=2*M).reshape((N*30, 2))\n",
    "\n",
    "\n",
    "uniform_variances = variance_in_extinction_time_simulation(b_array, E)\n",
    "print(uniform_variances)\n"
   ]
  },
  {
   "cell_type": "code",
   "execution_count": 3,
   "metadata": {},
   "outputs": [],
   "source": [
    "uniform_variances = [1.5108701773743594,\n",
    "1.4697771068661987,\n",
    "2.0931107316297886,\n",
    "0.6008733420313179,\n",
    "1.4631362786881197,\n",
    "3.2089970975566344,\n",
    "13.452980653682095,\n",
    "7.415530527465933,\n",
    "1.9597117442511274,\n",
    "2.9574160280764312,\n",
    "4.355975458505973,\n",
    "5.991524451043781,\n",
    "11.351404281536063,\n",
    "40.401327275296175,\n",
    "46.545440395389726,\n",
    "54.29399570824487,\n",
    "147.40814257089,\n",
    "532.7375400998123,\n",
    "31600.693118337764,\n",
    "0.0001]\n",
    "\n",
    "b_array = np.linspace(0, 0.020, 20)\n"
   ]
  },
  {
   "cell_type": "code",
   "execution_count": 4,
   "metadata": {},
   "outputs": [
    {
     "data": {
      "image/png": "[encoded data removed]",
      "text/plain": [
       "<Figure size 640x480 with 1 Axes>"
      ]
     },
     "metadata": {},
     "output_type": "display_data"
    }
   ],
   "source": [
    "import matplotlib.pyplot as plt\n",
    "plt.scatter(b_array, np.log10(uniform_variances))\n",
    "plt.title('Infection Rate vs. Log of the Variance in Extinction Time)')\n",
    "plt.ylabel('Log(Variance in Extinction Time)')\n",
    "plt.xlabel('Infection Rate')\n",
    "plt.show()\n"
   ]
  },
  {
   "cell_type": "code",
   "execution_count": 15,
   "metadata": {},
   "outputs": [
    {
     "data": {
      "image/png": "[encoded data removed]",
      "text/plain": [
       "<Figure size 640x480 with 1 Axes>"
      ]
     },
     "metadata": {},
     "output_type": "display_data"
    }
   ],
   "source": [
    "# Assuming the list of lists is defined as follows:\n",
    "time_variance = [[9.150187709674112, 1.8966863656144706], [10.361563710001404, 4.159901797588801], [10.28801298390747, 4.0151635652370015], [10.843674492342405, 2.021266695718521], [11.304420373603396, 2.890391882850905], [11.794234412020622, 2.5845525371036886], [12.391190135505536, 1.9999165848592675], [13.051080129563942, 3.001346137542744], [15.674608150659234, 8.623677638789246], [18.10778259703914, 14.951972766399177], [18.796810874539283, 7.99067650857612], [21.208226265033122, 9.462365365968868], [26.110503278963883, 12.69420560479967], [34.08876030993365, 36.927242913789726], [41.557119994792195, 100.02093975497309], [66.1857386301751, 275.7086154385312], [179.1159303925255, 9168.378408674938], [1000.0, 1e-06], [1000.0, 1e-06], [1000.0, 1e-06]]\n",
    "\n",
    "# We can use a list comprehension to divide the second element by the first element for each list\n",
    "variance_divided_by_time = [lst[1]/lst[0] for lst in time_variance]\n",
    "\n",
    "plt.scatter(b_array, variance_divided_by_time)\n",
    "plt.title('Infection Rate vs. Variance/Time')\n",
    "plt.ylabel('Variance/Time')\n",
    "plt.xlabel('Infection Rate')\n",
    "plt.show()\n"
   ]
  }
 ],
 "metadata": {
  "kernelspec": {
   "display_name": "iibproject",
   "language": "python",
   "name": "python3"
  },
  "language_info": {
   "codemirror_mode": {
    "name": "ipython",
    "version": 3
   },
   "file_extension": ".py",
   "mimetype": "text/x-python",
   "name": "python",
   "nbconvert_exporter": "python",
   "pygments_lexer": "ipython3",
   "version": "3.7.16"
  }
 },
 "nbformat": 4,
 "nbformat_minor": 2
}
