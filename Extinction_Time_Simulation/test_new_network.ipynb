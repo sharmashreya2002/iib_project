{
 "cells": [
  {
   "cell_type": "code",
   "execution_count": 1,
   "metadata": {},
   "outputs": [],
   "source": [
    "## using NetworkX to make a different degree distribution!\n",
    "import networkx as nx\n",
    "import numpy as np\n",
    "import scipy\n",
    "import matplotlib.pyplot as plt\n"
   ]
  },
  {
   "cell_type": "code",
   "execution_count": 3,
   "metadata": {},
   "outputs": [],
   "source": [
    "N = 5000\n",
    "## choose network from network X and change M0 and G\n",
    "M0 = 300\n",
    "\n",
    "G = nx.barabasi_albert_graph(N, M0)\n",
    "\n",
    "## initialize time\n",
    "T = 0\n",
    "## choose Tmax\n",
    "Tmax = 1000\n",
    "\n",
    "## return edge matrix (required for the simulation)\n",
    "E_barabasi = list(G.edges)\n",
    "\n",
    "M = np.shape(E_barabasi)[0]\n",
    "\n",
    "def find_extinction_time(b, E):\n",
    "\n",
    "    ## find the number of events that occur in the interval from T = 0 to T = Tmax\n",
    "    n = np.random.poisson(lam = Tmax*(N+b*M))\n",
    "\n",
    "    ## find times for all events\n",
    "    times = np.sort(np.random.uniform(0, Tmax, n))\n",
    "\n",
    "    ## start out with all infectious individuals\n",
    "    X = np.ones(N, dtype = int)\n",
    "\n",
    "    ## initialize number infected (all infected)\n",
    "    I = N\n",
    "\n",
    "    ## initialize list of infected people for all timesteps\n",
    "    infected = np.zeros(n)\n",
    "\n",
    "    # run simulation\n",
    "    for t in range(n):\n",
    "\n",
    "        if np.random.random() < N/(N + b*M):\n",
    "\n",
    "            i = np.random.randint(N)\n",
    "\n",
    "            I -= X[i]\n",
    "\n",
    "            X[i] = 0\n",
    "\n",
    "        else:\n",
    "\n",
    "            i,j = E[np.random.randint(M)]\n",
    "\n",
    "            I += X[i] ^ X[j]\n",
    "\n",
    "            X[i] = X[j] = (X[i] or X[j])\n",
    "    \n",
    "        infected[t] = I\n",
    "\n",
    "        ## if zero infected people, break simulation, truncate infected array\n",
    "        if I == 0:\n",
    "\n",
    "            infected = infected[:t]\n",
    "\n",
    "            break\n",
    "\n",
    "    ## return extinction time, if there is no extinction time, the time returned will be Tmax\n",
    "    return times[len(infected)- 1]\n",
    "\n",
    "def extinction_time_simulation(b_array, E):\n",
    "\n",
    "    extinction_times = np.zeros(len(b_array))\n",
    "\n",
    "    for i, b in zip(np.arange(0, len(b_array), dtype = int), b_array):\n",
    "\n",
    "        extinction = 0\n",
    "\n",
    "        if round(find_extinction_time(b, E)) == Tmax:\n",
    "            \n",
    "            extinction_times[i] = Tmax\n",
    "        \n",
    "        else:\n",
    "        \n",
    "            for t in range(20):\n",
    "\n",
    "                extinction += find_extinction_time(b, E)\n",
    "\n",
    "            extinction_times[i] = extinction / 20\n",
    "        \n",
    "        print(extinction_times[i])\n",
    "    \n",
    "    return extinction_times\n"
   ]
  },
  {
   "cell_type": "code",
   "execution_count": 4,
   "metadata": {},
   "outputs": [
    {
     "name": "stdout",
     "output_type": "stream",
     "text": [
      "[744.60379823+0.j]\n"
     ]
    }
   ],
   "source": [
    "## code to find the the leading eigenvalue of the adjacency matrix of the barabasi albert graph \n",
    "import scipy\n",
    "from scipy.sparse import linalg \n",
    "def find_leading_eigenvalue(G):\n",
    "    adj = nx.adjacency_matrix(G)\n",
    "    adj = adj.asfptype()\n",
    "    leading_eigenvalue = linalg.eigs(A = adj, k = 1, return_eigenvectors = False)\n",
    "    return leading_eigenvalue\n",
    "\n",
    "leading_eigenvalue = find_leading_eigenvalue(G)\n",
    "print(leading_eigenvalue)\n"
   ]
  },
  {
   "cell_type": "code",
   "execution_count": 14,
   "metadata": {},
   "outputs": [
    {
     "name": "stdout",
     "output_type": "stream",
     "text": [
      "[0.         0.00010526 0.00021053 0.00031579 0.00042105 0.00052632\n",
      " 0.00063158 0.00073684 0.00084211 0.00094737 0.00105263 0.00115789\n",
      " 0.00126316 0.00136842 0.00147368 0.00157895 0.00168421 0.00178947\n",
      " 0.00189474 0.002     ]\n",
      "9.01050899327427\n",
      "9.608553449606626\n",
      "10.186849734407254\n",
      "10.215085173498839\n",
      "11.30308854565833\n",
      "12.002012881883266\n",
      "14.137366465406945\n",
      "17.22961181259482\n",
      "18.36594830624204\n",
      "19.47589153927546\n",
      "24.617680467887308\n",
      "34.45482995844103\n",
      "44.48171252771776\n",
      "143.35100859430068\n",
      "1000.0\n",
      "1000.0\n",
      "1000.0\n",
      "1000.0\n",
      "1000.0\n",
      "1000.0\n",
      "[   9.01050899    9.60855345   10.18684973   10.21508517   11.30308855\n",
      "   12.00201288   14.13736647   17.22961181   18.36594831   19.47589154\n",
      "   24.61768047   34.45482996   44.48171253  143.35100859 1000.\n",
      " 1000.         1000.         1000.         1000.         1000.        ]\n"
     ]
    }
   ],
   "source": [
    "## run simulation for graph of the variance in the extinction times as a function of b\n",
    "b_array = np.linspace(0, 0.0020, 20)\n",
    "print(b_array)\n",
    "barabasi_extinction_times = extinction_time_simulation(b_array, E_barabasi)\n",
    "print(barabasi_extinction_times)\n"
   ]
  },
  {
   "cell_type": "code",
   "execution_count": 5,
   "metadata": {},
   "outputs": [],
   "source": [
    "barabasi_extinction_times =[8.887399549212255,\n",
    "9.363010514289858,\n",
    "10.377007534200205,\n",
    "11.078994960275342,\n",
    "11.86908566973643,\n",
    "13.673856966720766,\n",
    "14.021191772424606,\n",
    "14.83735134630478,\n",
    "18.92318513126268,\n",
    "20.42119222202599,\n",
    "27.789538985977497,\n",
    "33.967610513194884,\n",
    "55.44573880307272,\n",
    "118.73729667538869,\n",
    "1000.0,\n",
    "1000.0,\n",
    "1000.0,\n",
    "1000.0,\n",
    "1000.0,\n",
    "1000.0]\n",
    "\n",
    "N = 5000\n",
    "leading_eigenvalue = 744.60379823\n",
    "## predicted by model:\n",
    "b_array = np.linspace(0, 0.0020, 20)\n",
    "model = []\n",
    "model_b = np.linspace(0,0.00135,1000)\n",
    "for b in model_b:\n",
    "    estimate = (np.log(N) + 1) / (1-(leading_eigenvalue*b))\n",
    "    model.append(estimate)\n"
   ]
  },
  {
   "cell_type": "code",
   "execution_count": 6,
   "metadata": {},
   "outputs": [
    {
     "name": "stdout",
     "output_type": "stream",
     "text": [
      "[670.45522839]\n"
     ]
    }
   ],
   "source": [
    "from scipy.optimize import minimize\n",
    "import numpy as np\n",
    "\n",
    "y = np.array([8.887399549212255,\n",
    "9.363010514289858,\n",
    "10.377007534200205,\n",
    "11.078994960275342,\n",
    "11.86908566973643,\n",
    "13.673856966720766,\n",
    "14.021191772424606,\n",
    "14.83735134630478,\n",
    "18.92318513126268,\n",
    "20.42119222202599,\n",
    "27.789538985977497,\n",
    "33.967610513194884,\n",
    "55.44573880307272,\n",
    "118.73729667538869])\n",
    "\n",
    "x = np.array([0.,         0.00010526, 0.00021053, 0.00031579, 0.00042105, 0.00052632,\n",
    " 0.00063158, 0.00073684, 0.00084211, 0.00094737, 0.00105263, 0.00115789,\n",
    " 0.00126316, 0.00136842])\n",
    "\n",
    "N = 5000\n",
    "# Define the Model\n",
    "def f(b, x): return (np.log(N) + 1) / (1-(b*x))\n",
    "\n",
    "# The objective Function to minimize (least-squares regression)\n",
    "def obj(x, y, b): return np.sum((y - f(b, x))**2)\n",
    "\n",
    "# res.x contains your coefficients\n",
    "res = minimize(lambda coeffs: obj(x, y, *coeffs), x0=np.zeros(1))\n",
    "best_fit_eignvalue = res.x\n",
    "print(best_fit_eignvalue)\n"
   ]
  },
  {
   "cell_type": "code",
   "execution_count": 7,
   "metadata": {},
   "outputs": [],
   "source": [
    "## predicted by model2:\n",
    "b_array = np.linspace(0, 0.0020, 20)\n",
    "model_best_fit = []\n",
    "model_b = np.linspace(0,0.00135,1000)\n",
    "for b in model_b:\n",
    "    estimate = (np.log(N) + 1) / (1-(best_fit_eignvalue*b))\n",
    "    model_best_fit.append(estimate)\n"
   ]
  },
  {
   "cell_type": "code",
   "execution_count": 8,
   "metadata": {},
   "outputs": [
    {
     "name": "stderr",
     "output_type": "stream",
     "text": [
      "c:\\Users\\sharm\\anaconda3\\envs\\iibproject\\lib\\site-packages\\ipykernel_launcher.py:3: RuntimeWarning: invalid value encountered in log10\n",
      "  This is separate from the ipykernel package so we can avoid doing imports until\n"
     ]
    },
    {
     "data": {
      "image/png": "[encoded data removed]",
      "text/plain": [
       "<Figure size 640x480 with 1 Axes>"
      ]
     },
     "metadata": {},
     "output_type": "display_data"
    }
   ],
   "source": [
    "import matplotlib.pyplot as plt\n",
    "plt.scatter(b_array, np.log10(barabasi_extinction_times), label = 'simulation')\n",
    "plt.plot(model_b, np.log10(model), label = 'eigenvalue based approximation')\n",
    "plt.plot(model_b, np.log10(model_best_fit), label = 'best fit eigenvalue based approximation')\n",
    "# plt.errorbar(b_array, np.log10(uniform_extinction_times), y_error)\n",
    "plt.legend()\n",
    "plt.ylim(0.5, 3.05)\n",
    "plt.title('Infection Rate vs. log(Extinction Time)')\n",
    "plt.ylabel('log(Extinction Time)')\n",
    "plt.xlabel('Infection Rate')\n",
    "plt.show()\n"
   ]
  },
  {
   "cell_type": "code",
   "execution_count": null,
   "metadata": {},
   "outputs": [],
   "source": []
  }
 ],
 "metadata": {
  "kernelspec": {
   "display_name": "iibproject",
   "language": "python",
   "name": "python3"
  },
  "language_info": {
   "codemirror_mode": {
    "name": "ipython",
    "version": 3
   },
   "file_extension": ".py",
   "mimetype": "text/x-python",
   "name": "python",
   "nbconvert_exporter": "python",
   "pygments_lexer": "ipython3",
   "version": "3.7.16"
  }
 },
 "nbformat": 4,
 "nbformat_minor": 2
}
