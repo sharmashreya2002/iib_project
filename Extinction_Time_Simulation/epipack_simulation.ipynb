{
 "cells": [
  {
   "cell_type": "code",
   "execution_count": 1,
   "metadata": {},
   "outputs": [
    {
     "name": "stderr",
     "output_type": "stream",
     "text": [
      "c:\\Users\\sharm\\anaconda3\\envs\\iibproject\\lib\\site-packages\\epipack\\stochastic_epi_models.py:18: UserWarning: Couldn't find the efficient implementation of `SamplableSet` (see github.com/gstonge/SamplableSet). Proceeding with less efficient implementation.\n",
      "  warnings.warn(\"Couldn't find the efficient implementation of `SamplableSet` (see github.com/gstonge/SamplableSet). Proceeding with less efficient implementation.\")\n"
     ]
    }
   ],
   "source": [
    "from epipack import StochasticEpiModel\n"
   ]
  },
  {
   "cell_type": "code",
   "execution_count": 2,
   "metadata": {},
   "outputs": [
    {
     "name": "stdout",
     "output_type": "stream",
     "text": [
      "Node 1 has been infected in 32.85 % of the measurements.\n",
      "Node 2 has been infected in 50.0 % of the measurements.\n",
      "Node 0 has infected 0.8324 neighbors on average.\n"
     ]
    }
   ],
   "source": [
    "from epipack import StochasticEpiModel\n",
    "import numpy as np\n",
    "\n",
    "N = 3\n",
    "edge_weight_tuples = [\n",
    "    (0, 1, 1/3),\n",
    "    (0, 2, 2/3),\n",
    "]\n",
    "directed = False\n",
    "\n",
    "S, I, R = list(\"SIR\")\n",
    "\n",
    "model = StochasticEpiModel(\n",
    "                compartments=[S,I,R],\n",
    "                N=N,\n",
    "                edge_weight_tuples=edge_weight_tuples,\n",
    "                directed=directed,\n",
    "            )\n",
    "\n",
    "infection_rate = 3.0\n",
    "model.set_link_transmission_processes([\n",
    "        ('I', 'S', infection_rate, 'I', 'I'),\n",
    "    ])\n",
    "\n",
    "recovery_rate = 2.0\n",
    "model.set_node_transition_processes([\n",
    "        ('I', recovery_rate, 'R'),\n",
    "    ])\n",
    "\n",
    "model.set_random_initial_conditions({S: N-1, I: 1})\n",
    "\n",
    "initial_node_statuses = np.array([\n",
    "        model.get_compartment_id(I),\n",
    "        model.get_compartment_id(S),\n",
    "        model.get_compartment_id(S),\n",
    "    ])\n",
    "model.set_node_statuses(initial_node_statuses)\n",
    "\n",
    "initial_node_statuses = np.zeros(N,dtype=int)\n",
    "initial_node_statuses[0] = 1\n",
    "model.set_node_statuses(initial_node_statuses)\n",
    "\n",
    "N_meas = 10000\n",
    "N_inf = 0\n",
    "N_inf_node_2 = 0\n",
    "for meas in range(N_meas):\n",
    "    model.set_node_statuses(initial_node_statuses)\n",
    "    model.simulate(tmax=1e300)\n",
    "    if model.node_status[1] == model.get_compartment_id(R):\n",
    "        N_inf += 1\n",
    "    if model.node_status[2] == model.get_compartment_id(R):\n",
    "        N_inf_node_2 += 1\n",
    "\n",
    "print(\"Node 1 has been infected in\", N_inf/N_meas*100, \"% of the measurements.\")\n",
    "print(\"Node 2 has been infected in\", N_inf_node_2/N_meas*100, \"% of the measurements.\")\n",
    "\n",
    "N_meas = 10000\n",
    "N_inf = 0\n",
    "reproduction_number = 0\n",
    "for meas in range(N_meas):\n",
    "    model.set_node_statuses(initial_node_statuses)\n",
    "    t, result = model.simulate(tmax=1e300)\n",
    "    reproduction_number += result['R'][-1] -1\n",
    "\n",
    "print(\"Node 0 has infected\", reproduction_number/N_meas, \"neighbors on average.\")\n"
   ]
  },
  {
   "cell_type": "code",
   "execution_count": 3,
   "metadata": {},
   "outputs": [],
   "source": [
    "from epipack import StochasticEpiModel\n",
    "import networkx as nx\n",
    "\n",
    "k0 = 50\n",
    "R0 = 2.5\n",
    "rho = 1\n",
    "eta = R0 * rho / k0\n",
    "omega = 1/14\n",
    "N = int(1e4)\n",
    "edges = [ (e[0], e[1], 1.0) for e in \\\n",
    "          nx.fast_gnp_random_graph(N,k0/(N-1)).edges() ]\n",
    "\n",
    "SIRS = StochasticEpiModel(\n",
    "            compartments=list('SIR'),\n",
    "            N=N,\n",
    "            edge_weight_tuples=edges\n",
    "            )\\\n",
    "        .set_link_transmission_processes([\n",
    "            ('I', 'S', eta, 'I', 'I'),\n",
    "        ])\\\n",
    "        .set_node_transition_processes([\n",
    "            ('I', rho, 'R'),\n",
    "            ('R', omega, 'S'),\n",
    "        ])\\\n",
    "        .set_random_initial_conditions({\n",
    "                                        'S': N-100,\n",
    "                                        'I': 100\n",
    "                                       })\n",
    "t_s, result_s = SIRS.simulate(40)\n"
   ]
  },
  {
   "cell_type": "code",
   "execution_count": 14,
   "metadata": {},
   "outputs": [
    {
     "ename": "SyntaxError",
     "evalue": "invalid syntax (context_managers.py, line 50)",
     "output_type": "error",
     "traceback": [
      "Traceback \u001b[1;36m(most recent call last)\u001b[0m:\n",
      "  File \u001b[0;32m\"c:\\Users\\sharm\\anaconda3\\envs\\iibproject\\lib\\site-packages\\IPython\\core\\interactiveshell.py\"\u001b[0m, line \u001b[0;32m3553\u001b[0m, in \u001b[0;35mrun_code\u001b[0m\n    exec(code_obj, self.user_global_ns, self.user_ns)\n",
      "  File \u001b[0;32m\"C:\\Users\\sharm\\AppData\\Local\\Temp\\ipykernel_21184\\744426297.py\"\u001b[0m, line \u001b[0;32m1\u001b[0m, in \u001b[0;35m<module>\u001b[0m\n    from epipack import vis\n",
      "  File \u001b[0;32m\"c:\\Users\\sharm\\anaconda3\\envs\\iibproject\\lib\\site-packages\\epipack\\vis.py\"\u001b[0m, line \u001b[0;32m12\u001b[0m, in \u001b[0;35m<module>\u001b[0m\n    from pyglet.window import key, mouse, Window\n",
      "  File \u001b[0;32m\"c:\\Users\\sharm\\anaconda3\\envs\\iibproject\\lib\\site-packages\\pyglet\\window\\__init__.py\"\u001b[0m, line \u001b[0;32m1912\u001b[0m, in \u001b[0;35m<module>\u001b[0m\n    from pyglet.window.win32 import Win32Window as Window\n",
      "  File \u001b[0;32m\"c:\\Users\\sharm\\anaconda3\\envs\\iibproject\\lib\\site-packages\\pyglet\\window\\win32\\__init__.py\"\u001b[0m, line \u001b[0;32m50\u001b[0m, in \u001b[0;35m<module>\u001b[0m\n    from pyglet.canvas.win32 import Win32Canvas\n",
      "  File \u001b[0;32m\"c:\\Users\\sharm\\anaconda3\\envs\\iibproject\\lib\\site-packages\\pyglet\\canvas\\__init__.py\"\u001b[0m, line \u001b[0;32m110\u001b[0m, in \u001b[0;35m<module>\u001b[0m\n    from pyglet.canvas.win32 import Win32Display as Display\n",
      "\u001b[1;36m  File \u001b[1;32m\"c:\\Users\\sharm\\anaconda3\\envs\\iibproject\\lib\\site-packages\\pyglet\\canvas\\win32.py\"\u001b[1;36m, line \u001b[1;32m6\u001b[1;36m, in \u001b[1;35m<module>\u001b[1;36m\u001b[0m\n\u001b[1;33m    from pyglet.libs.win32.context_managers import device_context\u001b[0m\n",
      "\u001b[1;36m  File \u001b[1;32m\"c:\\Users\\sharm\\anaconda3\\envs\\iibproject\\lib\\site-packages\\pyglet\\libs\\win32\\context_managers.py\"\u001b[1;36m, line \u001b[1;32m50\u001b[0m\n\u001b[1;33m    if not (_dc := user32.GetDC(window_handle)):\u001b[0m\n\u001b[1;37m                ^\u001b[0m\n\u001b[1;31mSyntaxError\u001b[0m\u001b[1;31m:\u001b[0m invalid syntax\n"
     ]
    }
   ],
   "source": [
    "from epipack import vis \n",
    "from epipack import networks\n",
    "from pyglet.window import key, mouse, Window\n",
    "layouted_network = networks.get_random_layout(N, edges)\n",
    "vis.visualize(SIRS, layouted_network, sampling_dt=0.1, config={'draw_links': False})\n"
   ]
  },
  {
   "cell_type": "code",
   "execution_count": 5,
   "metadata": {},
   "outputs": [
    {
     "ename": "SyntaxError",
     "evalue": "invalid syntax (context_managers.py, line 50)",
     "output_type": "error",
     "traceback": [
      "Traceback \u001b[1;36m(most recent call last)\u001b[0m:\n",
      "  File \u001b[0;32m\"c:\\Users\\sharm\\anaconda3\\envs\\iibproject\\lib\\site-packages\\IPython\\core\\interactiveshell.py\"\u001b[0m, line \u001b[0;32m3553\u001b[0m, in \u001b[0;35mrun_code\u001b[0m\n    exec(code_obj, self.user_global_ns, self.user_ns)\n",
      "  File \u001b[0;32m\"C:\\Users\\sharm\\AppData\\Local\\Temp\\ipykernel_21184\\3994568930.py\"\u001b[0m, line \u001b[0;32m1\u001b[0m, in \u001b[0;35m<module>\u001b[0m\n    from epipack.vis import visualize\n",
      "  File \u001b[0;32m\"c:\\Users\\sharm\\anaconda3\\envs\\iibproject\\lib\\site-packages\\epipack\\vis.py\"\u001b[0m, line \u001b[0;32m12\u001b[0m, in \u001b[0;35m<module>\u001b[0m\n    from pyglet.window import key, mouse, Window\n",
      "  File \u001b[0;32m\"c:\\Users\\sharm\\anaconda3\\envs\\iibproject\\lib\\site-packages\\pyglet\\window\\__init__.py\"\u001b[0m, line \u001b[0;32m1912\u001b[0m, in \u001b[0;35m<module>\u001b[0m\n    from pyglet.window.win32 import Win32Window as Window\n",
      "  File \u001b[0;32m\"c:\\Users\\sharm\\anaconda3\\envs\\iibproject\\lib\\site-packages\\pyglet\\window\\win32\\__init__.py\"\u001b[0m, line \u001b[0;32m50\u001b[0m, in \u001b[0;35m<module>\u001b[0m\n    from pyglet.canvas.win32 import Win32Canvas\n",
      "  File \u001b[0;32m\"c:\\Users\\sharm\\anaconda3\\envs\\iibproject\\lib\\site-packages\\pyglet\\canvas\\__init__.py\"\u001b[0m, line \u001b[0;32m110\u001b[0m, in \u001b[0;35m<module>\u001b[0m\n    from pyglet.canvas.win32 import Win32Display as Display\n",
      "\u001b[1;36m  File \u001b[1;32m\"c:\\Users\\sharm\\anaconda3\\envs\\iibproject\\lib\\site-packages\\pyglet\\canvas\\win32.py\"\u001b[1;36m, line \u001b[1;32m6\u001b[1;36m, in \u001b[1;35m<module>\u001b[1;36m\u001b[0m\n\u001b[1;33m    from pyglet.libs.win32.context_managers import device_context\u001b[0m\n",
      "\u001b[1;36m  File \u001b[1;32m\"c:\\Users\\sharm\\anaconda3\\envs\\iibproject\\lib\\site-packages\\pyglet\\libs\\win32\\context_managers.py\"\u001b[1;36m, line \u001b[1;32m50\u001b[0m\n\u001b[1;33m    if not (_dc := user32.GetDC(window_handle)):\u001b[0m\n\u001b[1;37m                ^\u001b[0m\n\u001b[1;31mSyntaxError\u001b[0m\u001b[1;31m:\u001b[0m invalid syntax\n"
     ]
    }
   ],
   "source": [
    "from epipack.vis import visualize\n",
    "from epipack import (\n",
    "    StochasticSIRModel,\n",
    "    get_2D_lattice_links,\n",
    "    get_grid_layout\n",
    ")\n",
    "\n",
    "# define links and network layout\n",
    "N_side = 100\n",
    "N = N_side**2\n",
    "links = get_2D_lattice_links(N_side, periodic=True, diagonal_links=True)\n",
    "lattice = get_grid_layout(N)\n",
    "\n",
    "# define model\n",
    "R0 = 3; recovery_rate = 1/8\n",
    "model = StochasticSIRModel(N,R0,recovery_rate,\n",
    "                           edge_weight_tuples=links)\n",
    "model.set_random_initial_conditions({'I':20,'S':N-20})\n",
    "\n",
    "sampling_dt = 1\n",
    "\n",
    "visualize(model,lattice,sampling_dt,\n",
    "        config={\n",
    "                 'draw_nodes_as_rectangles':True,\n",
    "                 'draw_links':False,\n",
    "               }\n",
    "          )\n"
   ]
  }
 ],
 "metadata": {
  "kernelspec": {
   "display_name": "iibproject",
   "language": "python",
   "name": "python3"
  },
  "language_info": {
   "codemirror_mode": {
    "name": "ipython",
    "version": 3
   },
   "file_extension": ".py",
   "mimetype": "text/x-python",
   "name": "python",
   "nbconvert_exporter": "python",
   "pygments_lexer": "ipython3",
   "version": "3.7.16"
  }
 },
 "nbformat": 4,
 "nbformat_minor": 2
}
