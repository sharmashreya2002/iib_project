{
 "cells": [
  {
   "cell_type": "code",
   "execution_count": 9,
   "metadata": {},
   "outputs": [],
   "source": [
    "import numpy as np\n",
    "\n",
    "class Counter(dict):\n",
    "    def __init__(self, include_zeros = False, *args, **kwargs):\n",
    "        super().__init__(*args, **kwargs)\n",
    "        self.top_three_list = []\n",
    "        self.include_zeros = include_zeros\n",
    "    \n",
    "    def increment(self, item, delta = 1):\n",
    "        new_val = delta + self.pop(item, 0)\n",
    "        if new_val > 0:\n",
    "            self[item] = new_val\n",
    "        if self.include_zeros:\n",
    "            self.update_top_three(item, new_val)\n",
    "        else:\n",
    "            self.update_top_three_no_zero(item, new_val)\n",
    "    \n",
    "    def update_top_three(self, item, value):\n",
    "        counter = 0\n",
    "        ## check if the key already exists in the top-three and update its value if it does\n",
    "        for (k, v) in self.top_three_list:\n",
    "            if item == k:\n",
    "                counter += 1\n",
    "                self.top_three_list.remove((k, v))\n",
    "                self.top_three_list.append((k, value))\n",
    "                self.top_three_list.sort(key=lambda x: x[1], reverse=True)\n",
    "        ## check if there is space first [will always be space because we shorten list to three in final step], then check that the key does not already exist, and if so append it to the list\n",
    "        if len(self.top_three_list) < 4:\n",
    "            if counter == 0:\n",
    "                self.top_three_list.append((item, value))\n",
    "                self.top_three_list.sort(key=lambda x: x[1], reverse=True)\n",
    "        ## take only top three of the elements of the list; and return only the values not the keys (i.e. the counts)\n",
    "        self.top_three()\n",
    "\n",
    "    def update_top_three_no_zero(self, item, value):\n",
    "        if item != 0:\n",
    "            counter = 0\n",
    "            ## check if the key already exists in the top-three and update its value if it does\n",
    "            for (k, v) in self.top_three_list:\n",
    "                if item == k:\n",
    "                    counter += 1\n",
    "                    self.top_three_list.remove((k, v))\n",
    "                    self.top_three_list.append((k, value))\n",
    "                    self.top_three_list.sort(key=lambda x: x[1], reverse=True)\n",
    "            ## check if there is space first [will always be space because we shorten list to three in final step], then check that the key does not already exist, and if so append it to the list\n",
    "            if len(self.top_three_list) < 4:\n",
    "                if counter == 0:\n",
    "                    self.top_three_list.append((item, value))\n",
    "                    self.top_three_list.sort(key=lambda x: x[1], reverse=True)\n",
    "             ## take only top three of the elements of the list; and return only the values not the keys (i.e. the counts)\n",
    "            self.top_three()\n",
    "\n",
    "    def top_three(self):\n",
    "        final_counts = []\n",
    "        self.top_three_list = self.top_three_list[:3]\n",
    "        for (k, v) in self.top_three_list:\n",
    "            final_counts.append(v)\n",
    "        return final_counts\n",
    "\n",
    "\n",
    "def y(x):\n",
    "    return 2**x\n",
    "\n",
    "def find_tranformation_matrix(b, E, N, Tmax, stopping_crit = 0, zero_counts = False):\n",
    "\n",
    "    M = np.shape(E)[0]\n",
    "    ## find the number of events that occur in the interval from T = 0 to T = Tmax\n",
    "    n = np.random.poisson(lam = Tmax*(N+b*M))\n",
    "\n",
    "    ## find times for all events\n",
    "    times = np.sort(np.random.uniform(0, Tmax, n))\n",
    "    R = np.zeros(n, dtype = int)\n",
    "\n",
    "    ##making a spatial plot\n",
    "    spatial1 = np.zeros(n, dtype = int)\n",
    "    spatial2 = np.zeros(n, dtype = int)\n",
    "    spatial3 = np.zeros(n, dtype = int)\n",
    "    \n",
    "    X = [2**i for i in range(N)][::-1]\n",
    "\n",
    "    ## default is to not include zero counts in the top three, set zero_counts = True in function call to include zero counts\n",
    "    counts = Counter(include_zeros = zero_counts)\n",
    "    for element in X:\n",
    "        counts.increment(element, 1)\n",
    "\n",
    "    # run simulation\n",
    "    for t in range(n):\n",
    "        \n",
    "        if np.random.random() < N/(N + b*M):\n",
    "\n",
    "            i = np.random.randint(N)\n",
    "\n",
    "            if X[i] != 0:\n",
    "                \n",
    "                counts.increment(X[i], -1)\n",
    "\n",
    "                X[i] = 0\n",
    "\n",
    "                counts.increment(0, 1)\n",
    "        else:\n",
    "\n",
    "            i,j = E[np.random.randint(M)]\n",
    "\n",
    "            if (X[i] != 0 or X[j] != 0) and X[i] != X[j]:\n",
    "                    \n",
    "                new = X[i] | X[j]\n",
    "                counts.increment(X[i], -1)\n",
    "                counts.increment(X[j], -1)\n",
    "                counts.increment(new, 2)\n",
    "                X[i] = X[j] = new\n",
    "                \n",
    "        R[t] = non_zero_distinct_rows = len(counts) - (0 in counts)\n",
    "        \n",
    "        ## making a spatial plot\n",
    "        top_three = counts.top_three()\n",
    "        if len(top_three) == 3:\n",
    "            spatial1[t] = top_three[0]\n",
    "            spatial2[t] = top_three[1]\n",
    "            spatial3[t] = top_three[2]\n",
    "        elif len(top_three) == 2:\n",
    "            spatial1[t] = top_three[0]\n",
    "            spatial2[t] = top_three[1]\n",
    "            spatial3[t] = 0\n",
    "        elif len(top_three) == 1:\n",
    "            spatial1[t] = top_three[0]\n",
    "            spatial2[t] = 0\n",
    "            spatial3[t] = 0\n",
    "        elif len(top_three) == 0:\n",
    "            spatial1[t] = 0\n",
    "            spatial2[t] = 0\n",
    "            spatial3[t] = 0\n",
    "        \n",
    "        ## break the simulation because the pseudo mixing time has been found (the number of distinct rows and thus distinct columns is 2 or extinction, depending)\n",
    "\n",
    "        if non_zero_distinct_rows == stopping_crit:\n",
    "            times = times[:t+1]\n",
    "            R = R[:t+1]\n",
    "            spatial1 = spatial1[:t+1]\n",
    "            spatial2 = spatial2[:t+1]\n",
    "            spatial3 = spatial3[:t+1]\n",
    "            break\n",
    "\n",
    "    return times, R, spatial1, spatial2, spatial3\n"
   ]
  },
  {
   "cell_type": "code",
   "execution_count": 10,
   "metadata": {},
   "outputs": [],
   "source": [
    "N =  4000\n",
    "M = 3*N\n",
    "Tmax = 500\n",
    "## at the transition -- try again with the epidemic \n",
    "b = 5\n",
    "\n",
    "## random edge matrix\n",
    "E = np.random.randint(0,N,size=2*M).reshape((N*3, 2))\n",
    "\n",
    "## run all the way to extinction time\n",
    "times, R, spatial1, spatial2, spatial3 = find_tranformation_matrix(b, E, N, Tmax, 0)\n",
    "\n"
   ]
  },
  {
   "cell_type": "markdown",
   "metadata": {},
   "source": [
    "Check if the new class is working -- Apears so! :D"
   ]
  },
  {
   "cell_type": "code",
   "execution_count": 11,
   "metadata": {},
   "outputs": [
    {
     "name": "stdout",
     "output_type": "stream",
     "text": [
      "Pseudo mixing time:  2.1635043373888774\n"
     ]
    }
   ],
   "source": [
    "p_mix_index = np.min(np.where(R==1)[0])\n",
    "t_p_mixing = times[p_mix_index]\n",
    "print(\"Pseudo mixing time: \", t_p_mixing)"
   ]
  },
  {
   "cell_type": "code",
   "execution_count": 12,
   "metadata": {},
   "outputs": [
    {
     "data": {
      "image/png": "[encoded data removed]",
      "text/plain": [
       "<Figure size 640x480 with 1 Axes>"
      ]
     },
     "metadata": {},
     "output_type": "display_data"
    }
   ],
   "source": [
    "import matplotlib.pyplot as plt\n",
    "import numpy as np\n",
    "\n",
    "fig, ax1 = plt.subplots()\n",
    "\n",
    "color = 'tab:red'\n",
    "ax1.set_xlabel('Time')\n",
    "ax1.set_ylabel('Count', color=color)\n",
    "ax1.plot(times, spatial1, color=color, marker = 'o', markersize = 3, label= 'Count of Most Commonly Occuring Non-Zero Row')\n",
    "ax1.tick_params(axis='y', labelcolor=color)\n",
    "color = 'tab:green'\n",
    "ax1.plot(times, spatial2, color=color, marker = 'o', markersize = 3, label= 'Count of Second Most Commonly Occuring Non-Zero Row')\n",
    "color = 'tab:blue'\n",
    "ax1.plot(times, spatial3, color=color, marker = 'o', markersize = 3, label= 'Count of Third Most Commonly Occuring Non-Zero Row')\n",
    "fig.legend(loc = 'lower right')\n",
    "plt.xlim(0, 3)\n",
    "plt.title('Spatial Plot with Time')\n",
    "fig.tight_layout()  # otherwise the right y-label is slightly clipped\n",
    "plt.show()\n"
   ]
  },
  {
   "cell_type": "code",
   "execution_count": 2,
   "metadata": {},
   "outputs": [],
   "source": [
    "N =  4000\n",
    "M = 3*N\n",
    "Tmax = 500\n",
    "\n",
    "## random edge matrix\n",
    "E = np.random.randint(0,N,size=2*M).reshape((N*3, 2))"
   ]
  },
  {
   "cell_type": "markdown",
   "metadata": {},
   "source": [
    "First, we are getting the lists for s1*, s2*, s3*. As in, we are keeping the zero-counts parameter set to False"
   ]
  },
  {
   "cell_type": "code",
   "execution_count": 3,
   "metadata": {},
   "outputs": [
    {
     "name": "stdout",
     "output_type": "stream",
     "text": [
      "2.0\n",
      "5.2\n",
      "10.8\n",
      "45.4\n",
      "210.4\n",
      "171.8\n",
      "404.2\n",
      "500.6\n",
      "571.6\n",
      "494.6\n",
      "[2.6, 6.2, 14.2, 98.8, 1062.6, 1618.8, 1987.8, 2257.0, 2471.2, 2626.0]\n",
      "[2.0, 5.2, 10.8, 45.4, 210.4, 171.8, 404.2, 500.6, 571.6, 494.6]\n",
      "[2.0, 5.0, 9.0, 29.6, 49.8, 116.0, 131.6, 228.6, 195.0, 199.0]\n"
     ]
    }
   ],
   "source": [
    "b = np.linspace(0.002, 0.5, 10)\n",
    "s1 = []\n",
    "s2 = []\n",
    "s3 = []\n",
    "for i in range(len(b)):\n",
    "    maxs1 = 0\n",
    "    maxs2 = 0\n",
    "    maxs3 = 0\n",
    "    for j in range(5):\n",
    "        times, R, spatial1, spatial2, spatial3 = find_tranformation_matrix(b[i], E, N, Tmax, 0)\n",
    "        max_s1 = np.argmax(spatial1)\n",
    "        maxs1 += spatial1[max_s1]\n",
    "        max_s2 = np.argmax(spatial2)\n",
    "        maxs2 += spatial2[max_s2]\n",
    "        max_s3 = np.argmax(spatial3)\n",
    "        maxs3 += spatial3[max_s3]\n",
    "    print(maxs2/5)\n",
    "    s1.append(maxs1/5)\n",
    "    s2.append(maxs2/5)\n",
    "    s3.append(maxs3/5)\n",
    "\n",
    "print(s1)\n",
    "print(s2)\n",
    "print(s3)\n"
   ]
  },
  {
   "cell_type": "code",
   "execution_count": 4,
   "metadata": {},
   "outputs": [
    {
     "name": "stdout",
     "output_type": "stream",
     "text": [
      "860.2\n",
      "897.8\n",
      "1354.8\n",
      "1160.4\n",
      "1481.4\n",
      "1554.4\n",
      "998.6\n",
      "[2859.0, 3498.6, 3678.2, 3769.8, 3822.0, 3854.6, 3876.4]\n",
      "[860.2, 897.8, 1354.8, 1160.4, 1481.4, 1554.4, 998.6]\n",
      "[262.2, 421.0, 570.2, 607.4, 552.2, 505.0, 480.4]\n"
     ]
    }
   ],
   "source": [
    "b = np.linspace(0.6, 5, 7)\n",
    "s1 = []\n",
    "s2 = []\n",
    "s3 = []\n",
    "for i in range(len(b)):\n",
    "    maxs1 = 0\n",
    "    maxs2 = 0\n",
    "    maxs3 = 0\n",
    "    for j in range(5):\n",
    "        times, R, spatial1, spatial2, spatial3 = find_tranformation_matrix(b[i], E, N, Tmax, 0)\n",
    "        max_s1 = np.argmax(spatial1)\n",
    "        maxs1 += spatial1[max_s1]\n",
    "        max_s2 = np.argmax(spatial2)\n",
    "        maxs2 += spatial2[max_s2]\n",
    "        max_s3 = np.argmax(spatial3)\n",
    "        maxs3 += spatial3[max_s3]\n",
    "    print(maxs2/5)\n",
    "    s1.append(maxs1/5)\n",
    "    s2.append(maxs2/5)\n",
    "    s3.append(maxs3/5)\n",
    "\n",
    "print(s1)\n",
    "print(s2)\n",
    "print(s3)"
   ]
  },
  {
   "cell_type": "markdown",
   "metadata": {},
   "source": [
    "Now we set the zero counts to True "
   ]
  },
  {
   "cell_type": "code",
   "execution_count": 5,
   "metadata": {},
   "outputs": [
    {
     "name": "stdout",
     "output_type": "stream",
     "text": [
      "2.2\n",
      "6.2\n",
      "16.8\n",
      "127.8\n",
      "1069.4\n",
      "1618.4\n",
      "1992.4\n",
      "2000.0\n",
      "1831.6\n",
      "1662.6\n",
      "[4000.0, 4000.0, 4000.0, 3999.2, 3279.0, 2716.6, 2343.2, 2259.4, 2475.0, 2634.4]\n",
      "[2.2, 6.2, 16.8, 127.8, 1069.4, 1618.4, 1992.4, 2000.0, 1831.6, 1662.6]\n",
      "[2.0, 5.0, 10.6, 44.8, 228.2, 311.8, 417.6, 487.8, 470.6, 786.6]\n"
     ]
    }
   ],
   "source": [
    "b = np.linspace(0.002, 0.5, 10)\n",
    "s1 = []\n",
    "s2 = []\n",
    "s3 = []\n",
    "for i in range(len(b)):\n",
    "    maxs1 = 0\n",
    "    maxs2 = 0\n",
    "    maxs3 = 0\n",
    "    for j in range(5):\n",
    "        times, R, spatial1, spatial2, spatial3 = find_tranformation_matrix(b[i], E, N, Tmax, 0, True)\n",
    "        max_s1 = np.argmax(spatial1)\n",
    "        maxs1 += spatial1[max_s1]\n",
    "        max_s2 = np.argmax(spatial2)\n",
    "        maxs2 += spatial2[max_s2]\n",
    "        max_s3 = np.argmax(spatial3)\n",
    "        maxs3 += spatial3[max_s3]\n",
    "    print(maxs2/5)\n",
    "    s1.append(maxs1/5)\n",
    "    s2.append(maxs2/5)\n",
    "    s3.append(maxs3/5)\n",
    "\n",
    "print(s1)\n",
    "print(s2)\n",
    "print(s3)"
   ]
  },
  {
   "cell_type": "code",
   "execution_count": 6,
   "metadata": {},
   "outputs": [
    {
     "name": "stdout",
     "output_type": "stream",
     "text": [
      "1414.0\n",
      "1253.4\n",
      "1701.0\n",
      "1504.2\n",
      "1473.0\n",
      "1488.8\n",
      "1557.0\n",
      "[2851.0, 3489.0, 3681.6, 3767.4, 3822.2, 3856.6, 3877.2]\n",
      "[1414.0, 1253.4, 1701.0, 1504.2, 1473.0, 1488.8, 1557.0]\n",
      "[723.0, 597.6, 610.2, 614.6, 800.0, 428.8, 537.2]\n"
     ]
    }
   ],
   "source": [
    "b = np.linspace(0.6, 5, 7)\n",
    "s1 = []\n",
    "s2 = []\n",
    "s3 = []\n",
    "for i in range(len(b)):\n",
    "    maxs1 = 0\n",
    "    maxs2 = 0\n",
    "    maxs3 = 0\n",
    "    for j in range(5):\n",
    "        times, R, spatial1, spatial2, spatial3 = find_tranformation_matrix(b[i], E, N, Tmax, 0, True)\n",
    "        max_s1 = np.argmax(spatial1)\n",
    "        maxs1 += spatial1[max_s1]\n",
    "        max_s2 = np.argmax(spatial2)\n",
    "        maxs2 += spatial2[max_s2]\n",
    "        max_s3 = np.argmax(spatial3)\n",
    "        maxs3 += spatial3[max_s3]\n",
    "    print(maxs2/5)\n",
    "    s1.append(maxs1/5)\n",
    "    s2.append(maxs2/5)\n",
    "    s3.append(maxs3/5)\n",
    "\n",
    "print(s1)\n",
    "print(s2)\n",
    "print(s3)"
   ]
  },
  {
   "cell_type": "code",
   "execution_count": 18,
   "metadata": {},
   "outputs": [
    {
     "name": "stdout",
     "output_type": "stream",
     "text": [
      "[0.6        1.33333333 2.06666667 2.8        3.53333333 4.26666667\n",
      " 5.        ]\n"
     ]
    }
   ],
   "source": [
    "print(np.linspace(0.6, 5, 7))"
   ]
  },
  {
   "cell_type": "code",
   "execution_count": null,
   "metadata": {},
   "outputs": [],
   "source": [
    "b = [0.002, 0.05733333, 0.11266667, 0.168, 0.22333333, 0.27866667, 0.334, 0.38933333, 0.44466667, 0.5 ,  0.6, 1.33333333, 2.06666667, 2.8 , 3.53333333, 4.26666667, 5.]\n",
    "s1star = [2.6, 6.2, 14.2, 98.8, 1062.6, 1618.8, 1987.8, 2257.0, 2471.2, 2626.0, 2859.0, 3498.6, 3678.2, 3769.8, 3822.0, 3854.6, 3876.4]\n",
    "s2star = [2.0, 5.2, 10.8, 45.4, 210.4, 171.8, 404.2, 500.6, 571.6, 494.6, 860.2, 897.8, 1354.8, 1160.4, 1481.4, 1554.4, 998.6]\n",
    "s3star = [2.0, 5.0, 9.0, 29.6, 49.8, 116.0, 131.6, 228.6, 195.0, 199.0, 262.2, 421.0, 570.2, 607.4, 552.2, 505.0, 480.4]\n",
    "s1 = [4000.0, 4000.0, 4000.0, 3999.2, 3279.0, 2716.6, 2343.2, 2259.4, 2475.0, 2634.4, 2851.0, 3489.0, 3681.6, 3767.4, 3822.2, 3856.6, 3877.2]\n",
    "s2 = [2.2, 6.2, 16.8, 127.8, 1069.4, 1618.4, 1992.4, 2000.0, 1831.6, 1662.6, 1414.0, 1253.4, 1701.0, 1504.2, 1473.0, 1488.8, 1557.0]\n",
    "s3 = [2.0, 5.0, 10.6, 44.8, 228.2, 311.8, 417.6, 487.8, 470.6, 786.6, 723.0, 597.6, 610.2, 614.6, 800.0, 428.8, 537.2]"
   ]
  },
  {
   "cell_type": "markdown",
   "metadata": {},
   "source": [
    "Now, we make our list of value of S2* and S3* when S1* is maximum"
   ]
  },
  {
   "cell_type": "code",
   "execution_count": 7,
   "metadata": {},
   "outputs": [
    {
     "name": "stdout",
     "output_type": "stream",
     "text": [
      "1.4\n",
      "0.0\n",
      "0.0\n",
      "0.0\n",
      "0.0\n",
      "0.0\n",
      "0.0\n",
      "0.0\n",
      "0.0\n",
      "0.0\n",
      "0.0\n",
      "0.0\n",
      "0.0\n",
      "0.0\n",
      "0.0\n",
      "[2.4, 2130.8, 3039.2, 3371.8, 3531.8, 3633.0, 3697.8, 3740.4, 3776.2, 3803.2, 3824.4, 3839.4, 3856.0, 3870.4, 3882.6]\n",
      "[1.4, 0.0, 0.0, 0.0, 0.0, 0.0, 0.0, 0.0, 0.0, 0.0, 0.0, 0.0, 0.0, 0.0, 0.0]\n",
      "[1.4, 0.0, 0.0, 0.0, 0.0, 0.0, 0.0, 0.0, 0.0, 0.0, 0.0, 0.0, 0.0, 0.0, 0.0]\n"
     ]
    }
   ],
   "source": [
    "b = np.linspace(0.002, 5, 15)\n",
    "s1 = []\n",
    "s2 = []\n",
    "s3 = []\n",
    "for i in range(len(b)):\n",
    "    maxs1 = 0\n",
    "    maxs2 = 0\n",
    "    maxs3 = 0\n",
    "    for j in range(5):\n",
    "        times, R, spatial1, spatial2, spatial3 = find_tranformation_matrix(b[i], E, N, Tmax, 0)\n",
    "        max_s1 = np.argmax(spatial1)\n",
    "        maxs1 += spatial1[max_s1]\n",
    "        maxs2 += spatial2[max_s1]\n",
    "        maxs3 += spatial3[max_s1]\n",
    "    print(maxs2/5)\n",
    "    s1.append(maxs1/5)\n",
    "    s2.append(maxs2/5)\n",
    "    s3.append(maxs3/5)\n",
    "\n",
    "print(s1)\n",
    "print(s2)\n",
    "print(s3)\n"
   ]
  },
  {
   "cell_type": "code",
   "execution_count": null,
   "metadata": {},
   "outputs": [],
   "source": [
    "s1points = [2.4, 2130.8, 3039.2, 3371.8, 3531.8, 3633.0, 3697.8, 3740.4, 3776.2, 3803.2, 3824.4, 3839.4, 3856.0, 3870.4, 3882.6]\n",
    "s2points = [1.4, 0.0, 0.0, 0.0, 0.0, 0.0, 0.0, 0.0, 0.0, 0.0, 0.0, 0.0, 0.0, 0.0, 0.0]\n",
    "s3points = [1.4, 0.0, 0.0, 0.0, 0.0, 0.0, 0.0, 0.0, 0.0, 0.0, 0.0, 0.0, 0.0, 0.0, 0.0]"
   ]
  },
  {
   "cell_type": "code",
   "execution_count": 8,
   "metadata": {},
   "outputs": [
    {
     "name": "stdout",
     "output_type": "stream",
     "text": [
      "7.582123566665767\n",
      "10.097434711607457\n",
      "11.931214412872528\n",
      "17.25010594207508\n",
      "29.982398887881125\n",
      "132.4320903465923\n",
      "60.500126336034725\n",
      "40.99115921458893\n",
      "32.47528465776249\n",
      "26.999036566925366\n",
      "22.24572141620232\n",
      "20.031470348972025\n",
      "17.388974978575792\n",
      "16.759107753285587\n",
      "14.370689054196879\n",
      "[7.582123566665767, 10.097434711607457, 11.931214412872528, 17.25010594207508, 29.982398887881125, 132.4320903465923, 60.500126336034725, 40.99115921458893, 32.47528465776249, 26.999036566925366, 22.24572141620232, 20.031470348972025, 17.388974978575792, 16.759107753285587, 14.370689054196879]\n"
     ]
    }
   ],
   "source": [
    "b = np.linspace(0.002, 0.5, 15)\n",
    "\n",
    "p_mixing_times = []\n",
    "\n",
    "for i in range(len(b)):\n",
    "    t_p_mixing = 0\n",
    "    for j in range(10):\n",
    "        times, R, spatial1, spatial2, spatial3 = find_tranformation_matrix(b[i], E, N, Tmax, 1)\n",
    "        p_mix_index = np.min(np.where(R==1)[0])\n",
    "        t_p_mixing += times[p_mix_index]\n",
    "    p_mixing_times.append(t_p_mixing/10)\n",
    "    print(t_p_mixing/10)\n",
    "\n",
    "print(p_mixing_times)\n"
   ]
  },
  {
   "cell_type": "code",
   "execution_count": null,
   "metadata": {},
   "outputs": [],
   "source": [
    "btimes = np.linspace(0.002, 0.5, 15)\n",
    "pmixing = [7.582123566665767, 10.097434711607457, 11.931214412872528, 17.25010594207508, 29.982398887881125, 132.4320903465923, 60.500126336034725, 40.99115921458893, 32.47528465776249, 26.999036566925366, 22.24572141620232, 20.031470348972025, 17.388974978575792, 16.759107753285587, 14.370689054196879]"
   ]
  },
  {
   "cell_type": "markdown",
   "metadata": {},
   "source": [
    "Plot Results"
   ]
  },
  {
   "cell_type": "code",
   "execution_count": null,
   "metadata": {},
   "outputs": [],
   "source": [
    "import matplotlib.pyplot as plt\n",
    "import numpy as np\n",
    "\n",
    "fig, ax1 = plt.subplots()\n",
    "\n",
    "color = 'tab:red'\n",
    "ax1.set_xlabel('Spatial Plot')\n",
    "ax1.set_ylabel('Spreading Rate', color=color)\n",
    "ax1.plot(b, s1star, color=color, marker = 'o', label= 'Count of Most Commonly Occuring Non-Zero Row')\n",
    "ax1.tick_params(axis='y', labelcolor=color)\n",
    "color = 'tab:green'\n",
    "ax1.plot(b, s2star, color=color, marker = 'o', label= 'Count of Second Most Commonly Occuring Non-Zero Row')\n",
    "color = 'tab:blue'\n",
    "ax1.plot(b, s3star, color=color, marker = 'o', label= 'Count of Second Most Commonly Occuring Non-Zero Row')\n",
    "ax2 = ax1.twinx()\n",
    "color = 'tab:black'\n",
    "ax2.plot(btimes, pmixing, color=color, marker = 'o', markersize = 2, label= 'Pseudo Mixing Time', linestyle = '--')\n",
    "ax2.set_ylabel('Pseudo Mixing Time', color=color)\n",
    "\n",
    "fig.legend(loc = 'lower right')\n",
    "plt.title('Spatial Plot with Spreading Rate')\n",
    "fig.tight_layout()  # otherwise the right y-label is slightly clipped\n",
    "plt.show()\n"
   ]
  },
  {
   "cell_type": "code",
   "execution_count": null,
   "metadata": {},
   "outputs": [],
   "source": [
    "import matplotlib.pyplot as plt\n",
    "import numpy as np\n",
    "\n",
    "fig, ax1 = plt.subplots()\n",
    "\n",
    "color = 'tab:red'\n",
    "ax1.set_xlabel('Spreading Rate')\n",
    "ax1.set_ylabel('Row Count', color=color)\n",
    "ax1.plot(b, s1, color=color, marker = 'o', label= 'Count of Most Commonly Occuring Row')\n",
    "ax1.tick_params(axis='y', labelcolor=color)\n",
    "color = 'tab:green'\n",
    "ax1.plot(b, s2, color=color, marker = 'o', label= 'Count of Second Most Commonly Occuring Row')\n",
    "color = 'tab:blue'\n",
    "ax1.plot(b, s3, color=color, marker = 'o', label= 'Count of Second Most Commonly Occuring Row')\n",
    "\n",
    "fig.legend(loc = 'lower right')\n",
    "plt.title('Spatial Plot with Spreading Rate (Including Zero Rows)')\n",
    "fig.tight_layout()  # otherwise the right y-label is slightly clipped\n",
    "plt.show()\n"
   ]
  },
  {
   "cell_type": "code",
   "execution_count": null,
   "metadata": {},
   "outputs": [],
   "source": []
  }
 ],
 "metadata": {
  "kernelspec": {
   "display_name": "iibproject",
   "language": "python",
   "name": "python3"
  },
  "language_info": {
   "codemirror_mode": {
    "name": "ipython",
    "version": 3
   },
   "file_extension": ".py",
   "mimetype": "text/x-python",
   "name": "python",
   "nbconvert_exporter": "python",
   "pygments_lexer": "ipython3",
   "version": "3.7.16"
  }
 },
 "nbformat": 4,
 "nbformat_minor": 2
}
