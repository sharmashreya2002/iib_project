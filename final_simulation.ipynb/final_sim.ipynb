{
 "cells": [
  {
   "cell_type": "code",
   "execution_count": 2,
   "metadata": {},
   "outputs": [],
   "source": [
    "import numpy as np\n",
    "\n",
    "# network size N\n",
    "N = 5\n",
    "\n",
    "# number of edges\n",
    "M = N*3\n",
    "\n",
    "## initialize time\n",
    "T = 0\n",
    "## choose Tmax\n",
    "Tmax = 5\n",
    "\n",
    "# network size N\n",
    "N = 5\n",
    "\n",
    "# number of edges\n",
    "M = N*3\n",
    "\n",
    "Tmax = 5\n"
   ]
  },
  {
   "cell_type": "code",
   "execution_count": 48,
   "metadata": {},
   "outputs": [],
   "source": [
    "class Counter(dict):\n",
    "    def increment(self, item, delta = 1):\n",
    "        new_val = delta + self.pop(item, 0)\n",
    "        if new_val > 0:\n",
    "            self[item] = new_val\n",
    "\n",
    "def find_tranformation_matrix(b, E):\n",
    "\n",
    "    ## find the number of events that occur in the interval from T = 0 to T = Tmax\n",
    "    n = np.random.poisson(lam = Tmax*(N+b*M))\n",
    "\n",
    "    ## find times for all events\n",
    "    times = np.sort(np.random.uniform(0, Tmax, n))\n",
    "\n",
    "    ## initialize boolean identity Matrix A of dimensions NxN\n",
    "    X = np.identity(N, dtype=bool)\n",
    "    \n",
    "    vf = np.vectorize(lambda x: 2**x)\n",
    "    ints = np.array(list(range(N)))\n",
    "    I = vf(ints)[::-1]\n",
    "\n",
    "    counts = Counter()\n",
    "    for element in I:\n",
    "        counts.increment(element, 1)\n",
    "\n",
    "    distinct_rows = N\n",
    "\n",
    "    # run simulation\n",
    "    for t in range(n):\n",
    "        \n",
    "        if np.random.random() < N/(N + b*M):\n",
    "\n",
    "            i = np.random.randint(N)\n",
    "        \n",
    "            row_i_not_distinct = I[i] in counts and counts[I[i]] > 1\n",
    "\n",
    "            if I[i] != 0:\n",
    "\n",
    "                if 0 in counts and counts[0] >= 1:\n",
    "\n",
    "                    if row_i_not_distinct == False:\n",
    "\n",
    "                        distinct_rows -= 1\n",
    "\n",
    "                     \n",
    "                else:\n",
    "\n",
    "                    if row_i_not_distinct == True:\n",
    "                            \n",
    "                        distinct_rows = min(distinct_rows + 1, N)\n",
    "                \n",
    "                counts.increment(I[i], -1)\n",
    "\n",
    "                X[i, :] = False\n",
    "\n",
    "                I[i] = 0\n",
    "\n",
    "                counts.increment(0, 1)\n",
    "        else:\n",
    "\n",
    "            i,j = E[np.random.randint(M)]\n",
    "\n",
    "            if (I[i] != 0 or I[j] != 0) and I[i] != I[j]:\n",
    "                    \n",
    "                new = int(''.join('1' if x else '0' for x in np.logical_or(X[i], X[j])), 2)\n",
    "                counts.increment(I[i], -1)\n",
    "                counts.increment(I[j], -1)\n",
    "                \n",
    "                new_not_distinct = new in counts and counts[new] >= 1\n",
    "                    \n",
    "                row_i_not_distinct = I[i] in counts and counts[I[i]] >= 1\n",
    "\n",
    "                row_j_not_distinct = I[j] in counts and counts[I[j]] >= 1\n",
    "\n",
    "                counts.increment(new, 2)\n",
    "                I[i] = I[j] = new\n",
    "\n",
    "                if new_not_distinct == False:\n",
    "                    if row_i_not_distinct == False and row_j_not_distinct == False:\n",
    "                        distinct_rows -= 1\n",
    "                    if (row_i_not_distinct == False and row_j_not_distinct == True) or (row_i_not_distinct == True and row_j_not_distinct == False):\n",
    "                        distinct_rows = distinct_rows\n",
    "                    if row_i_not_distinct == True and row_j_not_distinct == True:\n",
    "                        distinct_rows = min(distinct_rows + 1, N)\n",
    "\n",
    "                else:\n",
    "                    if row_i_not_distinct == False and row_j_not_distinct == False:\n",
    "                        distinct_rows -= 2\n",
    "                    if (row_i_not_distinct == False and row_j_not_distinct == True) or (row_i_not_distinct == True and row_j_not_distinct == False):\n",
    "                        distinct_rows -= 1\n",
    "\n",
    "                X[i] = X[j] = np.logical_or(X[i], X[j])\n",
    "                \n",
    "        distinct_rows_check = np.unique(X, axis=0).shape[0]\n",
    "        assert distinct_rows == distinct_rows_check, f\"distinct rows is {distinct_rows} but should be {distinct_rows_check}\"\n",
    "        ## break the simulation because the pseudo mixing time has been found (the number of distinct rows and thus distinct columns is 2)\n",
    "\n",
    "        if distinct_rows == 2:\n",
    "            \n",
    "            break\n",
    "\n",
    "    return X, I\n"
   ]
  },
  {
   "cell_type": "code",
   "execution_count": 49,
   "metadata": {},
   "outputs": [
    {
     "name": "stdout",
     "output_type": "stream",
     "text": [
      "(array([[False, False, False, False, False],\n",
      "       [False, False, False, False, False],\n",
      "       [False, False, False, False, False],\n",
      "       [False, False, False,  True,  True],\n",
      "       [False, False, False,  True,  True]]), array([0, 0, 0, 3, 3]))\n"
     ]
    }
   ],
   "source": [
    "b = 0.5\n",
    "\n",
    "## random edge matrix\n",
    "E = np.random.randint(0,N,size=2*M).reshape((N*3, 2))\n",
    "\n",
    "x0 = np.ones(N, dtype=bool)\n",
    "matrix_A = find_tranformation_matrix(b, E)\n",
    "print(matrix_A)\n"
   ]
  },
  {
   "cell_type": "code",
   "execution_count": 9,
   "metadata": {},
   "outputs": [
    {
     "name": "stdout",
     "output_type": "stream",
     "text": [
      "[[False False  True  True False]\n",
      " [False  True False False  True]\n",
      " [False False  True  True False]\n",
      " [False False  True  True False]\n",
      " [False  True False False  True]]\n",
      "6\n",
      "6\n"
     ]
    },
    {
     "data": {
      "text/plain": [
       "15"
      ]
     },
     "execution_count": 9,
     "metadata": {},
     "output_type": "execute_result"
    }
   ],
   "source": [
    "X = np.array([[False, False,  True,  True, False],\n",
    "       [False,  True, False, False,  True],\n",
    "       [False, False,  True,  True, False],\n",
    "       [False, False,  True,  True, False],\n",
    "       [False,  True, False, False,  True]])\n",
    "print(X)\n",
    "print(int(''.join('1' if x else '0' for x in X[0]), 2))\n",
    "print(int(''.join('1' if x else '0' for x in X[3]), 2))\n",
    "int(''.join('1' if x else '0' for x in np.logical_or(X[0], X[1])), 2)\n"
   ]
  },
  {
   "cell_type": "code",
   "execution_count": 30,
   "metadata": {},
   "outputs": [
    {
     "name": "stdout",
     "output_type": "stream",
     "text": [
      "[22, 9, 4, 2, 9]\n",
      "{22: 1, 4: 1, 2: 1, 9: 2}\n",
      "False\n",
      "{22: 1, 4: 1, 9: 1}\n",
      "True\n",
      "False\n"
     ]
    }
   ],
   "source": [
    "X = np.array([[True, False,  True,  True, False],\n",
    "       [False,  True, False, False,  True],\n",
    "       [False, False,  True,  False, False],\n",
    "       [False, False,  False,  True, False],\n",
    "       [False,  True, False, False,  True]])\n",
    "\n",
    "I = []\n",
    "for i in range(X.shape[0]):\n",
    "       I.append(int(''.join('1' if x else '0' for x in X[i]), 2))\n",
    "\n",
    "print(I)\n",
    "\n",
    "counts = Counter()\n",
    "for element in I:\n",
    "       counts.increment(element, 1)\n",
    "print(counts)\n",
    "\n",
    "if (I[1] != 0 or I[0] != 0) and I[1] != I[0]:\n",
    "\n",
    "    new = int(''.join('1' if x else '0' for x in np.logical_or(X[1], X[3])), 2)\n",
    "    counts.increment(I[1], -1)\n",
    "    counts.increment(I[3], -1)\n",
    "    new_not_distinct = new in counts and counts[new] >= 1\n",
    "    print(new_not_distinct)\n",
    "\n",
    "    print(counts)\n",
    "    row_i_not_distinct = I[1] in counts and counts[I[1]] >= 1\n",
    "    print(row_i_not_distinct)\n",
    "\n",
    "    row_j_not_distinct = I[3] in counts and counts[I[3]] >= 1\n",
    "    print(row_j_not_distinct)\n",
    "\n",
    "    counts.increment(new, 1)\n",
    "    I[3] = I[1] = new\n"
   ]
  },
  {
   "cell_type": "code",
   "execution_count": 5,
   "metadata": {},
   "outputs": [
    {
     "name": "stdout",
     "output_type": "stream",
     "text": [
      "[[ True False False False False]\n",
      " [False  True False False False]\n",
      " [False False  True False False]\n",
      " [False False False  True False]\n",
      " [False False False False  True]]\n",
      "[16  8  4  2  1]\n",
      "{16: 1, 8: 1, 4: 1, 2: 1, 1: 1}\n",
      "1\n"
     ]
    }
   ],
   "source": [
    "## initialize boolean identity Matrix A of dimensions NxN\n",
    "X = np.identity(N, dtype=bool)\n",
    "    \n",
    "vf = np.vectorize(lambda x: 2**x)\n",
    "ints = np.array(list(range(N)))\n",
    "I = vf(ints)[::-1]\n",
    "\n",
    "counts = Counter()\n",
    "for element in I:\n",
    "    counts.increment(element, 1)\n",
    "\n",
    "print(X)\n",
    "print(I)\n",
    "print(counts)\n",
    "\n",
    "\n",
    "# new = int(''.join('1' if x else '0' for x in np.logical_or(X[i], X[j])), 2)\n",
    "\n",
    "print(int('10000'[::-1], 2))\n"
   ]
  },
  {
   "cell_type": "code",
   "execution_count": 4,
   "metadata": {},
   "outputs": [
    {
     "name": "stdout",
     "output_type": "stream",
     "text": [
      "5\n",
      "{2: 1, 4: 1, 8: 1, 16: 1, 1: 2}\n",
      "2\n",
      "False\n"
     ]
    },
    {
     "data": {
      "text/plain": [
       "False"
      ]
     },
     "execution_count": 4,
     "metadata": {},
     "output_type": "execute_result"
    }
   ],
   "source": [
    "class Counter(dict):\n",
    "    def increment(self, item, delta = 1):\n",
    "        new_val = delta + self.pop(item, 0)\n",
    "        if new_val > 0:\n",
    "            self[item] = new_val\n",
    "\n",
    "\n",
    "vf = np.vectorize(lambda x: 2**x)\n",
    "ints = np.array(list(range(N)))\n",
    "I = vf(ints)\n",
    "\n",
    "counts = Counter()\n",
    "for element in I:\n",
    "    counts.increment(element, 1)\n",
    "\n",
    "counts.increment(1, 1)\n",
    "print(len(counts))\n",
    "print(counts)\n",
    "print(counts[1])\n",
    "\n",
    "row_i_not_distinct = I[1] in counts and counts[I[1]] > 1\n",
    "print(row_i_not_distinct)\n",
    "\n",
    "0 in counts and counts[0] >= 1\n"
   ]
  },
  {
   "cell_type": "code",
   "execution_count": 21,
   "metadata": {},
   "outputs": [
    {
     "name": "stdout",
     "output_type": "stream",
     "text": [
      "yes\n"
     ]
    }
   ],
   "source": [
    "I = [1, 2, 0, 0, 0]\n",
    "\n",
    "if (I[1] != 0 or I[0] != 0) and I[1] != I[0]:\n",
    "    print('yes')\n"
   ]
  },
  {
   "cell_type": "code",
   "execution_count": 2,
   "metadata": {},
   "outputs": [
    {
     "data": {
      "text/plain": [
       "7"
      ]
     },
     "execution_count": 2,
     "metadata": {},
     "output_type": "execute_result"
    }
   ],
   "source": [
    "# 5 | 7\n",
    "\n",
    "0 or 7\n"
   ]
  }
 ],
 "metadata": {
  "kernelspec": {
   "display_name": "iibproject",
   "language": "python",
   "name": "python3"
  },
  "language_info": {
   "codemirror_mode": {
    "name": "ipython",
    "version": 3
   },
   "file_extension": ".py",
   "mimetype": "text/x-python",
   "name": "python",
   "nbconvert_exporter": "python",
   "pygments_lexer": "ipython3",
   "version": "3.7.16"
  }
 },
 "nbformat": 4,
 "nbformat_minor": 2
}
