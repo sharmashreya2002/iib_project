{
 "cells": [
  {
   "cell_type": "code",
   "execution_count": 26,
   "metadata": {},
   "outputs": [],
   "source": [
    "import numpy as np\n",
    "\n",
    "# network size N\n",
    "N = 200\n",
    "\n",
    "# number of edges\n",
    "M = N*3\n",
    "\n",
    "## initialize time\n",
    "T = 0\n",
    "## choose Tmax\n",
    "Tmax = 5\n"
   ]
  },
  {
   "cell_type": "code",
   "execution_count": 48,
   "metadata": {},
   "outputs": [],
   "source": [
    "class Counter(dict):\n",
    "    def increment(self, item, delta = 1):\n",
    "        new_val = delta + self.pop(item, 0)\n",
    "        if new_val > 0:\n",
    "            self[item] = new_val\n",
    "\n",
    "def y(x):\n",
    "    return 2**x\n",
    "\n",
    "def find_tranformation_matrix(b, E):\n",
    "\n",
    "    ## find the number of events that occur in the interval from T = 0 to T = Tmax\n",
    "    n = np.random.poisson(lam = Tmax*(N+b*M))\n",
    "\n",
    "    ## find times for all events\n",
    "    times = np.sort(np.random.uniform(0, Tmax, n))\n",
    "    \n",
    "    ints = list(range(N-1, -1, -1))\n",
    "    I = [y(i) for i in ints]\n",
    "\n",
    "    counts = Counter()\n",
    "    for element in I:\n",
    "        counts.increment(element, 1)\n",
    "\n",
    "    distinct_rows = N\n",
    "\n",
    "    # run simulation\n",
    "    for t in range(n):\n",
    "        \n",
    "        if np.random.random() < N/(N + b*M):\n",
    "\n",
    "            i = np.random.randint(N)\n",
    "        \n",
    "            row_i_not_distinct = I[i] in counts and counts[I[i]] > 1\n",
    "\n",
    "            if I[i] != 0:\n",
    "                \n",
    "                counts.increment(I[i], -1)\n",
    "\n",
    "                I[i] = 0\n",
    "\n",
    "                counts.increment(0, 1)\n",
    "        else:\n",
    "\n",
    "            i,j = E[np.random.randint(M)]\n",
    "\n",
    "            if (I[i] != 0 or I[j] != 0) and I[i] != I[j]:\n",
    "                    \n",
    "                new = I[i] | I[j]\n",
    "                counts.increment(I[i], -1)\n",
    "                counts.increment(I[j], -1)\n",
    "                counts.increment(new, 2)\n",
    "                I[i] = I[j] = new\n",
    "                \n",
    "        distinct_rows = len(counts)\n",
    "        ## break the simulation because the pseudo mixing time has been found (the number of distinct rows and thus distinct columns is 2)\n",
    "\n",
    "        if distinct_rows <= 2:\n",
    "            print(f\"the simulation has reached pseudo-mixing time at step = {t}\")\n",
    "            break\n",
    "\n",
    "    return counts\n"
   ]
  },
  {
   "cell_type": "code",
   "execution_count": 50,
   "metadata": {},
   "outputs": [
    {
     "name": "stdout",
     "output_type": "stream",
     "text": [
      "the simulation has reached pseudo-mixing time at step = 890\n",
      "{4503599627370496: 1, 0: 199}\n"
     ]
    }
   ],
   "source": [
    "b = 0.0002\n",
    "## random edge matrix\n",
    "E = np.random.randint(0,N,size=2*M).reshape((N*3, 2))\n",
    "\n",
    "x0 = np.ones(N, dtype=bool)\n",
    "\n",
    "matrix_A = find_tranformation_matrix(b, E)\n",
    "print(matrix_A)\n"
   ]
  },
  {
   "cell_type": "code",
   "execution_count": 30,
   "metadata": {},
   "outputs": [
    {
     "name": "stdout",
     "output_type": "stream",
     "text": [
      "{0, 712266139250481441124369124557009498134977890103351220632364, 712266139250435758047829269961506159482290379231741870602796, 712266330438279630203764599236228976374920817078937382812204, 710696851469868927611569047336059286673169028978539611257644, 712266138876428354669617975530545759556927227410743353146156, 712266139250481441124369124557009498134977890107749267143468, 712266139250572784976702383222277702777830451825541766445868, 712266139250481441124369118713061002920325508246873854966572, 712266139250572784976702383222277857520335362498076128836396, 712266139250572784976702389066147124572472903397877905619756, 712266043095365706699145993032988846680045600125618137545516, 712266330438279630203764599236229131117425799809065783130924, 712266139250572784976702383222277857520335362493678082325292, 712266138876337010817285375635406180319873576679087031188268, 712266139250481441124368459943011605677041438204219126971180, 712266126903715597802528005096822138854609537561472086309676, 712266330812515393212809683859525518436678719483774688033580, 712266139250481441124369124557009652877482800780283629533996, 712266139250572784976702383222277857520334785892188290546476, 712266139250572784976702389066147124572472903411072045153068, 712266139250572784976702389066146969829967992742935729273644, 712266138876337010817284711021408287861937124775556891015980, 712266139250481441124369118713140231082840349190355304315692, 712266139250572784976702389066147124572472903415470091664172, 712266043094588837928499343169624919636057229766899393835564, 712266043468733613897155269270818435533266546302579940733484}\n"
     ]
    }
   ],
   "source": [
    "# count the number of unique elements in the list matrix_A\n",
    "unique_elements = set(matrix_A)\n",
    "print(unique_elements)\n"
   ]
  }
 ],
 "metadata": {
  "kernelspec": {
   "display_name": "iibproject",
   "language": "python",
   "name": "python3"
  },
  "language_info": {
   "codemirror_mode": {
    "name": "ipython",
    "version": 3
   },
   "file_extension": ".py",
   "mimetype": "text/x-python",
   "name": "python",
   "nbconvert_exporter": "python",
   "pygments_lexer": "ipython3",
   "version": "3.7.16"
  }
 },
 "nbformat": 4,
 "nbformat_minor": 2
}
