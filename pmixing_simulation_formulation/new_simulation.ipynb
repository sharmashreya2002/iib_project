{
 "cells": [
  {
   "cell_type": "code",
   "execution_count": 6,
   "metadata": {},
   "outputs": [
    {
     "name": "stdout",
     "output_type": "stream",
     "text": [
      "[[ True]\n",
      " [False]\n",
      " [False]\n",
      " [ True]]\n",
      "2\n"
     ]
    }
   ],
   "source": [
    "import numpy as np\n",
    "## test numpy matrix multiplication with Boolean values\n",
    "identity_matrix = np.identity(4, dtype=bool)\n",
    "identity_matrix[2][1] = True\n",
    "identity_matrix[1][2] = True\n",
    "\n",
    "test_x = np.ones((4, 1), dtype=bool)\n",
    "test_x[1] = False\n",
    "test_x[2] = False\n",
    "\n",
    "answer = np.dot(identity_matrix, test_x)\n",
    "print(answer)\n",
    "print(np.sum(answer))\n"
   ]
  },
  {
   "cell_type": "code",
   "execution_count": 123,
   "metadata": {},
   "outputs": [],
   "source": [
    "# network size N\n",
    "N = 3\n",
    "\n",
    "# number of edges\n",
    "M = N*3\n",
    "\n",
    "## initialize time\n",
    "T = 0\n",
    "## choose Tmax\n",
    "Tmax = 5\n"
   ]
  },
  {
   "cell_type": "code",
   "execution_count": 131,
   "metadata": {},
   "outputs": [],
   "source": [
    "## inputs are the initial condition and the edge matrix\n",
    "def find_extinction_time(b, E, x0):\n",
    "\n",
    "    # ## find the number of events that occur in the interval from T = 0 to T = Tmax\n",
    "    n = np.random.poisson(lam = Tmax*(N+b*M))\n",
    "\n",
    "    ## find times for all events\n",
    "    times = np.sort(np.random.uniform(0, Tmax, n))\n",
    "\n",
    "    ## initialize boolean identity Matrix A of dimensions NxN\n",
    "    A = np.identity(N, dtype=bool)\n",
    "\n",
    "    ## initialize number infected (based on initial conditions))\n",
    "    I = np.sum(x0)\n",
    "\n",
    "    ## initialize list of infected people for all timesteps\n",
    "    infected = np.zeros(n)\n",
    "\n",
    "    # run simulation\n",
    "    for t in range(n):\n",
    "\n",
    "        Iden = np.identity(N, dtype=bool)\n",
    "        \n",
    "        ## recovery event occurs (turns diagonal entry to 0 and premultiplies A) == row i of A is set to False\n",
    "        if np.random.random() < N/(N + b*M):\n",
    "\n",
    "            i = np.random.randint(N)\n",
    "            A[i, :] = False\n",
    "\n",
    "            print(f\"recovery event at time {t} of node {i}\")\n",
    "\n",
    "        else:\n",
    "        ## spreading event (turns symmetric entries to 1 and premultiplies A)\n",
    "\n",
    "            i,j = E[np.random.randint(M)]\n",
    "            print(f\"spreading event at time {t} of nodes {i} and {j}\")\n",
    "\n",
    "            Iden[i][j] = Iden[j][i] = True\n",
    "\n",
    "            A = np.dot(Iden, A)\n",
    "        \n",
    "        infected[t] = np.sum(np.dot(A, x0))\n",
    "\n",
    "        ## if zero infected people, break simulation, truncate infected array\n",
    "        if np.all(A == 0) == True:\n",
    "\n",
    "            infected = infected[:t]\n",
    "            \n",
    "            break\n",
    "\n",
    "    return A, infected\n"
   ]
  },
  {
   "cell_type": "markdown",
   "metadata": {},
   "source": [
    "The code above returned the number of infected individuals, but our algorithm doesn't need to keep track of this at the moment. Let us just return A now that we have convinced ourselves this is working as we expected. The most expensive operation is the np.dot(Iden, A) for each spreading event or recovery event; ideal to replace with a more efficient operation. If the premultiplying matrix has a spreading process between nodes i and j, we can replace rows i and j of the matrix A with the results of an OR operation on rows i and j of the matrix, leaving all other rows the same. Similarly, for a recoveory process, if the premultiplying matrix has the recovery of node i, replace the row i of matrix A with a row of zeros. "
   ]
  },
  {
   "cell_type": "code",
   "execution_count": 152,
   "metadata": {},
   "outputs": [],
   "source": [
    "## inputs are the initial condition and the edge matrix\n",
    "def find_tranformation_matrix(b, E, x0):\n",
    "\n",
    "    # ## find the number of events that occur in the interval from T = 0 to T = Tmax\n",
    "    n = np.random.poisson(lam = Tmax*(N+b*M))\n",
    "\n",
    "    ## find times for all events\n",
    "    times = np.sort(np.random.uniform(0, Tmax, n))\n",
    "\n",
    "    ## initialize boolean identity Matrix A of dimensions NxN\n",
    "    A = np.identity(N, dtype=bool)\n",
    "\n",
    "    # run simulation\n",
    "    for t in range(n):\n",
    "\n",
    "        Iden = np.identity(N, dtype=bool)\n",
    "        \n",
    "        ## recovery event occurs (turns diagonal entry to 0 and premultiplies A) == row i of A is set to False\n",
    "        if np.random.random() < N/(N + b*M):\n",
    "\n",
    "            i = np.random.randint(N)\n",
    "            A[i, :] = False\n",
    "\n",
    "            print(f\"recovery event at time {t} of node {i}\")\n",
    "\n",
    "        else:\n",
    "        ## spreading event (turns symmetric entries to 1 and premultiplies A) == row i and j of A is set to the OR of row i and j\n",
    "\n",
    "            i,j = E[np.random.randint(M)]\n",
    "            print(f\"spreading event at time {t} of nodes {i} and {j}\")\n",
    "\n",
    "            A[i] = A[j] = np.logical_or(A[i], A[j])\n",
    "\n",
    "        ## if zero infected people, break simulation, truncate infected array\n",
    "        if np.all(A == 0) == True:\n",
    "            \n",
    "            break\n",
    "\n",
    "    return A\n"
   ]
  },
  {
   "cell_type": "code",
   "execution_count": 158,
   "metadata": {},
   "outputs": [
    {
     "name": "stdout",
     "output_type": "stream",
     "text": [
      "spreading event at time 0 of nodes 2 and 0\n",
      "spreading event at time 1 of nodes 2 and 0\n",
      "spreading event at time 2 of nodes 1 and 0\n",
      "recovery event at time 3 of node 1\n",
      "recovery event at time 4 of node 1\n",
      "recovery event at time 5 of node 0\n",
      "spreading event at time 6 of nodes 2 and 1\n",
      "spreading event at time 7 of nodes 1 and 2\n",
      "recovery event at time 8 of node 1\n",
      "spreading event at time 9 of nodes 1 and 0\n",
      "spreading event at time 10 of nodes 2 and 1\n",
      "recovery event at time 11 of node 2\n",
      "spreading event at time 12 of nodes 2 and 0\n",
      "spreading event at time 13 of nodes 1 and 0\n",
      "recovery event at time 14 of node 2\n",
      "spreading event at time 15 of nodes 2 and 1\n",
      "recovery event at time 16 of node 0\n",
      "spreading event at time 17 of nodes 0 and 0\n",
      "recovery event at time 18 of node 1\n",
      "spreading event at time 19 of nodes 1 and 1\n",
      "spreading event at time 20 of nodes 0 and 0\n",
      "recovery event at time 21 of node 2\n",
      "[[False False False]\n",
      " [False False False]\n",
      " [False False False]]\n"
     ]
    }
   ],
   "source": [
    "b = 0.5\n",
    "\n",
    "## random edge matrix\n",
    "E = np.random.randint(0,N,size=2*M).reshape((N*3, 2))\n",
    "\n",
    "x0 = np.ones(N, dtype=bool)\n",
    "\n",
    "matrix_A = find_tranformation_matrix(b, E, x0)\n",
    "\n",
    "print(matrix_A)\n"
   ]
  },
  {
   "cell_type": "markdown",
   "metadata": {},
   "source": [
    "Test:"
   ]
  },
  {
   "cell_type": "code",
   "execution_count": 76,
   "metadata": {},
   "outputs": [
    {
     "name": "stdout",
     "output_type": "stream",
     "text": [
      "[[False False False]\n",
      " [False False False]\n",
      " [ True False False]]\n"
     ]
    }
   ],
   "source": [
    "\n",
    "A = np.identity(3, dtype=bool)\n",
    "\n",
    "\n",
    "## first, let's choose a recovery of node 2 at time 0\n",
    "Iden = np.identity(3, dtype=bool)\n",
    "Iden[2][2] = False\n",
    "A = np.dot(Iden, A)\n",
    "\n",
    "## next a spreading event from node 0 to node 2 at time 1\n",
    "Iden = np.identity(3, dtype=bool)\n",
    "Iden[0][2] = Iden[2][0] = True\n",
    "A = np.dot(Iden, A)\n",
    "\n",
    "\n",
    "## recover 1 at time 2\n",
    "Iden = np.identity(3, dtype=bool)  \n",
    "A = np.dot(Iden, A)\n",
    "\n",
    "# recover node 0 at time 3\n",
    "Iden = np.identity(3, dtype=bool)\n",
    "Iden[0][0] = False\n",
    "A = np.dot(Iden, A)\n",
    "\n",
    "## spread from node 0 to 1 at time 4\n",
    "Iden = np.identity(3, dtype=bool)\n",
    "Iden[0][1] = Iden[1][0] = True\n",
    "A = np.dot(Iden, A)\n",
    "\n",
    "print(A)\n"
   ]
  }
 ],
 "metadata": {
  "kernelspec": {
   "display_name": "iibproject",
   "language": "python",
   "name": "python3"
  },
  "language_info": {
   "codemirror_mode": {
    "name": "ipython",
    "version": 3
   },
   "file_extension": ".py",
   "mimetype": "text/x-python",
   "name": "python",
   "nbconvert_exporter": "python",
   "pygments_lexer": "ipython3",
   "version": "3.7.16"
  }
 },
 "nbformat": 4,
 "nbformat_minor": 2
}
